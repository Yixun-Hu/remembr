{
  "cells": [
    {
      "cell_type": "code",
      "execution_count": null,
      "metadata": {
        "id": "ijGzTHJJUCPY"
      },
      "outputs": [],
      "source": [
        "# Copyright 2024 Google LLC\n",
        "#\n",
        "# Licensed under the Apache License, Version 2.0 (the \"License\");\n",
        "# you may not use this file except in compliance with the License.\n",
        "# You may obtain a copy of the License at\n",
        "#\n",
        "#     https://www.apache.org/licenses/LICENSE-2.0\n",
        "#\n",
        "# Unless required by applicable law or agreed to in writing, software\n",
        "# distributed under the License is distributed on an \"AS IS\" BASIS,\n",
        "# WITHOUT WARRANTIES OR CONDITIONS OF ANY KIND, either express or implied.\n",
        "# See the License for the specific language governing permissions and\n",
        "# limitations under the License."
      ]
    },
    {
      "cell_type": "markdown",
      "metadata": {
        "id": "NDsTUvKjwHBW"
      },
      "source": [
        "# Introduction to Multimodal Embeddings on Vertex AI\n",
        "\n",
        "<table align=\"left\">\n",
        "  <td style=\"text-align: center\">\n",
        "    <a href=\"https://colab.research.google.com/github/GoogleCloudPlatform/generative-ai/blob/main/embeddings/intro_multimodal_embeddings.ipynb\">\n",
        "      <img width=\"32px\" src=\"https://www.gstatic.com/pantheon/images/bigquery/welcome_page/colab-logo.svg\" alt=\"Google Colaboratory logo\"><br> Run in Colab\n",
        "    </a>\n",
        "  </td>\n",
        "  <td style=\"text-align: center\">\n",
        "    <a href=\"https://console.cloud.google.com/vertex-ai/colab/import/https:%2F%2Fraw.githubusercontent.com%2FGoogleCloudPlatform%2Fgenerative-ai%2Fmain%2Fembeddings%2Fintro_multimodal_embeddings.ipynb\">\n",
        "      <img width=\"32px\" src=\"https://lh3.googleusercontent.com/JmcxdQi-qOpctIvWKgPtrzZdJJK-J3sWE1RsfjZNwshCFgE_9fULcNpuXYTilIR2hjwN\" alt=\"Google Cloud Colab Enterprise logo\"><br> Run in Colab Enterprise\n",
        "    </a>\n",
        "  </td>\n",
        "  <td style=\"text-align: center\">\n",
        "    <a href=\"https://github.com/GoogleCloudPlatform/generative-ai/blob/main/embeddings/intro_multimodal_embeddings.ipynb\">\n",
        "      <img width=\"32px\" src=\"https://www.svgrepo.com/download/217753/github.svg\" alt=\"GitHub logo\"><br> View on GitHub\n",
        "    </a>\n",
        "  </td>\n",
        "  <td style=\"text-align: center\">\n",
        "    <a href=\"https://console.cloud.google.com/vertex-ai/workbench/deploy-notebook?download_url=https://raw.githubusercontent.com/GoogleCloudPlatform/generative-ai/main/embeddings/intro_multimodal_embeddings.ipynb\">\n",
        "      <img src=\"https://www.gstatic.com/images/branding/gcpiconscolors/vertexai/v1/32px.svg\" alt=\"Vertex AI logo\"><br> Open in Vertex AI Workbench\n",
        "    </a>\n",
        "  </td>\n",
        "  <td style=\"text-align: center\">\n",
        "    <a href=\"https://goo.gle/4fVmfkB\">\n",
        "      <img width=\"32px\" src=\"https://cdn.qwiklabs.com/assets/gcp_cloud-e3a77215f0b8bfa9b3f611c0d2208c7e8708ed31.svg\" alt=\"Google Cloud logo\"><br> Open in  Cloud Skills Boost\n",
        "    </a>\n",
        "  </td>\n",
        "</table>\n",
        "\n",
        "<div style=\"clear: both;\"></div>\n",
        "\n",
        "<b>Share to:</b>\n",
        "\n",
        "<a href=\"https://www.linkedin.com/sharing/share-offsite/?url=https%3A//github.com/GoogleCloudPlatform/generative-ai/blob/main/embeddings/intro_multimodal_embeddings.ipynb\" target=\"_blank\">\n",
        "  <img width=\"20px\" src=\"https://upload.wikimedia.org/wikipedia/commons/8/81/LinkedIn_icon.svg\" alt=\"LinkedIn logo\">\n",
        "</a>\n",
        "\n",
        "<a href=\"https://bsky.app/intent/compose?text=https%3A//github.com/GoogleCloudPlatform/generative-ai/blob/main/embeddings/intro_multimodal_embeddings.ipynb\" target=\"_blank\">\n",
        "  <img width=\"20px\" src=\"https://upload.wikimedia.org/wikipedia/commons/7/7a/Bluesky_Logo.svg\" alt=\"Bluesky logo\">\n",
        "</a>\n",
        "\n",
        "<a href=\"https://twitter.com/intent/tweet?url=https%3A//github.com/GoogleCloudPlatform/generative-ai/blob/main/embeddings/intro_multimodal_embeddings.ipynb\" target=\"_blank\">\n",
        "  <img width=\"20px\" src=\"https://upload.wikimedia.org/wikipedia/commons/5/5a/X_icon_2.svg\" alt=\"X logo\">\n",
        "</a>\n",
        "\n",
        "<a href=\"https://reddit.com/submit?url=https%3A//github.com/GoogleCloudPlatform/generative-ai/blob/main/embeddings/intro_multimodal_embeddings.ipynb\" target=\"_blank\">\n",
        "  <img width=\"20px\" src=\"https://redditinc.com/hubfs/Reddit%20Inc/Brand/Reddit_Logo.png\" alt=\"Reddit logo\">\n",
        "</a>\n",
        "\n",
        "<a href=\"https://www.facebook.com/sharer/sharer.php?u=https%3A//github.com/GoogleCloudPlatform/generative-ai/blob/main/embeddings/intro_multimodal_embeddings.ipynb\" target=\"_blank\">\n",
        "  <img width=\"20px\" src=\"https://upload.wikimedia.org/wikipedia/commons/5/51/Facebook_f_logo_%282019%29.svg\" alt=\"Facebook logo\">\n",
        "</a>            "
      ]
    },
    {
      "cell_type": "markdown",
      "metadata": {
        "id": "4uoRmYQsKBgl"
      },
      "source": [
        "| Authors |\n",
        "| --- |\n",
        "| [Lavi Nigam](https://github.com/lavinigam-gcp) |\n",
        "| [Kaz Sato](https://github.com/kazunori279) |"
      ]
    },
    {
      "cell_type": "markdown",
      "metadata": {
        "id": "RQT500QqVPIb"
      },
      "source": [
        "### Objectives\n",
        "\n",
        "In this notebook, you will explore:\n",
        "* Vertex AI Multimodal Embeddings API (Texts, Images & Video)\n",
        "* Building simple search with e-commerce data\n",
        "    - Find product based on text query\n",
        "    - Find product based on image\n",
        "    - Find Video based on video"
      ]
    },
    {
      "cell_type": "markdown",
      "metadata": {
        "id": "76476d2db2c0"
      },
      "source": [
        "## Multimodal Embeddings\n",
        "\n",
        "[Vertex AI Multimodal Embeddings API](https://cloud.google.com/vertex-ai/generative-ai/docs/embeddings/get-multimodal-embeddings) generates [`128`, `256`, `512`, and `1408` (default)] -dimension vectors based on the input you provide, which can include a combination of image, text, and video data. The embedding vectors can then be used for subsequent tasks like image classification or video content moderation.\n",
        "\n",
        "The image embedding vector and text embedding vector generated with this API shares the semantic space. Consequently, these vectors can be used interchangeably for use cases like searching image by text, or searching video by image.\n",
        "\n",
        "**Use cases**\n",
        "\n",
        "**Image and text:**\n",
        "\n",
        "* Image classification: Takes an image as input and predicts one or more classes (labels).\n",
        "* Image search: Search relevant or similar images.\n",
        "* Recommendations: Generate product or ad recommendations based on images.\n",
        "\n",
        "**Image, text, and video:**\n",
        "\n",
        "* Recommendations: Generate product or advertisement recommendations based on videos (similarity search).\n",
        "* Video content search\n",
        "    * Using semantic search: Take a text as an input, and return a set of ranked frames matching the query.\n",
        "* Using similarity search:\n",
        "    * Take a video as an input, and return a set of videos matching the query.\n",
        "    * Take an image as an input, and return a set of videos matching the query.\n",
        "* Video classification: Takes a video as input and predicts one or more classes."
      ]
    },
    {
      "cell_type": "markdown",
      "metadata": {
        "id": "DXJpXzKrh2rJ"
      },
      "source": [
        "## Getting Started"
      ]
    },
    {
      "cell_type": "markdown",
      "metadata": {
        "id": "N5afkyDMSBW5"
      },
      "source": [
        "### Install Vertex AI SDK for Python and other dependencies"
      ]
    },
    {
      "cell_type": "code",
      "execution_count": 1,
      "metadata": {
        "id": "kc4WxYmLSBW5"
      },
      "outputs": [],
      "source": [
        "%pip install --quiet google-cloud-aiplatform numpy pandas seaborn scikit-learn"
      ]
    },
    {
      "cell_type": "markdown",
      "metadata": {
        "id": "FtsU9Bw9h2rL"
      },
      "source": [
        "### Authenticate your notebook environment (Colab only)\n",
        "\n",
        "If you are running this notebook on Google Colab, run the following cell to authenticate your environment. This step is not required if you are using [Vertex AI Workbench](https://cloud.google.com/vertex-ai-workbench)."
      ]
    },
    {
      "cell_type": "code",
      "execution_count": 2,
      "metadata": {
        "id": "GpYEyLsOh2rL"
      },
      "outputs": [],
      "source": [
        "import sys\n",
        "\n",
        "# Additional authentication is required for Google Colab\n",
        "if \"google.colab\" in sys.modules:\n",
        "    # Authenticate user to Google Cloud\n",
        "    from google.colab import auth\n",
        "\n",
        "    auth.authenticate_user()"
      ]
    },
    {
      "cell_type": "markdown",
      "metadata": {
        "id": "O1vKZZoEh2rL"
      },
      "source": [
        "### Set Google Cloud project information and initialize Vertex AI SDK\n",
        "\n",
        "To get started using Vertex AI, you must have an existing Google Cloud project and [enable the Vertex AI API](https://console.cloud.google.com/flows/enableapi?apiid=aiplatform.googleapis.com).\n",
        "\n",
        "Learn more about [setting up a project and a development environment](https://cloud.google.com/vertex-ai/docs/start/cloud-environment)."
      ]
    },
    {
      "cell_type": "code",
      "execution_count": 3,
      "metadata": {
        "id": "gJqZ76rJh2rM"
      },
      "outputs": [],
      "source": [
        "# Use the environment variable if the user doesn't provide Project ID.\n",
        "import os\n",
        "\n",
        "PROJECT_ID = \"emb-mem-v1\"  # @param {type: \"string\", placeholder: \"[your-project-id]\", isTemplate: true}\n",
        "if not PROJECT_ID or PROJECT_ID == \"[your-project-id]\":\n",
        "    PROJECT_ID = str(os.environ.get(\"GOOGLE_CLOUD_PROJECT\"))\n",
        "\n",
        "LOCATION = os.environ.get(\"GOOGLE_CLOUD_REGION\", \"us-central1\")\n",
        "\n",
        "# Initialize Vertex AI\n",
        "import vertexai\n",
        "\n",
        "vertexai.init(project=PROJECT_ID, location=LOCATION)"
      ]
    },
    {
      "cell_type": "markdown",
      "metadata": {
        "id": "BuQwwRiniVFG"
      },
      "source": [
        "### Import libraries"
      ]
    },
    {
      "cell_type": "code",
      "execution_count": 4,
      "metadata": {
        "id": "rtMowvm-yQ97"
      },
      "outputs": [],
      "source": [
        "# for data processing\n",
        "import numpy as np\n",
        "import pandas as pd\n",
        "import seaborn as sns\n",
        "\n",
        "pd.options.mode.chained_assignment = None  # default='warn'\n",
        "\n",
        "# for showing images and videos\n",
        "from IPython.display import HTML\n",
        "from IPython.display import Image as ImageByte\n",
        "from IPython.display import display\n",
        "from sklearn.metrics.pairwise import cosine_similarity\n",
        "\n",
        "# vertex ai sdk\n",
        "from vertexai.vision_models import Image as VMImage\n",
        "from vertexai.vision_models import MultiModalEmbeddingModel\n",
        "from vertexai.vision_models import Video as VMVideo\n",
        "from vertexai.vision_models import VideoSegmentConfig"
      ]
    },
    {
      "cell_type": "markdown",
      "metadata": {
        "id": "r-TX_R_xh2rM"
      },
      "source": [
        "### Load Vertex AI Multimodal Embeddings"
      ]
    },
    {
      "cell_type": "code",
      "execution_count": 5,
      "metadata": {
        "id": "SvMwSRJJh2rM",
        "colab": {
          "base_uri": "https://localhost:8080/"
        },
        "outputId": "355c487a-bdbf-4d40-9321-f34117875ffb"
      },
      "outputs": [
        {
          "output_type": "stream",
          "name": "stderr",
          "text": [
            "/usr/local/lib/python3.12/dist-packages/vertexai/_model_garden/_model_garden_models.py:278: UserWarning: This feature is deprecated as of June 24, 2025 and will be removed on June 24, 2026. For details, see https://cloud.google.com/vertex-ai/generative-ai/docs/deprecations/genai-vertexai-sdk.\n",
            "  warning_logs.show_deprecation_warning()\n"
          ]
        }
      ],
      "source": [
        "mm_embedding_model = MultiModalEmbeddingModel.from_pretrained(\"multimodalembedding\")"
      ]
    },
    {
      "cell_type": "markdown",
      "metadata": {
        "id": "71bf88d9898a"
      },
      "source": [
        "### Helper functions"
      ]
    },
    {
      "cell_type": "code",
      "execution_count": 6,
      "metadata": {
        "id": "2dd2e6b6cb97"
      },
      "outputs": [],
      "source": [
        "def get_text_embedding(\n",
        "    text: str = \"banana muffins\",\n",
        "    dimension: int | None = 1408,\n",
        ") -> list[float]:\n",
        "    embedding = mm_embedding_model.get_embeddings(\n",
        "        contextual_text=text,\n",
        "        dimension=dimension,\n",
        "    )\n",
        "    return embedding.text_embedding\n",
        "\n",
        "\n",
        "def get_image_embedding(\n",
        "    image_path: str,\n",
        "    dimension: int | None = 1408,\n",
        ") -> list[float]:\n",
        "    image = VMImage.load_from_file(image_path)\n",
        "    embedding = mm_embedding_model.get_embeddings(\n",
        "        image=image,\n",
        "        dimension=dimension,\n",
        "    )\n",
        "    return embedding.image_embedding\n",
        "\n",
        "\n",
        "def get_video_embedding(\n",
        "    video_path: str,\n",
        "    dimension: int | None = 1408,\n",
        "    video_segment_config: VideoSegmentConfig | None = None,\n",
        ") -> list[float]:\n",
        "    video = VMVideo.load_from_file(video_path)\n",
        "    embedding = mm_embedding_model.get_embeddings(\n",
        "        video=video,\n",
        "        dimension=dimension,\n",
        "        video_segment_config=video_segment_config,\n",
        "    )\n",
        "    return [video_emb.embedding for video_emb in embedding.video_embeddings]\n",
        "\n",
        "\n",
        "def get_public_url_from_gcs(gcs_uri: str) -> str:\n",
        "    return gcs_uri.replace(\"gs://\", \"https://storage.googleapis.com/\").replace(\n",
        "        \" \", \"%20\"\n",
        "    )\n",
        "\n",
        "\n",
        "def display_video_from_gcs(gcs_uri: str) -> None:\n",
        "    display(\n",
        "        HTML(\n",
        "            f\"\"\"\n",
        "    <video width=\"640\" height=\"480\" controls>\n",
        "        <source src=\"{get_public_url_from_gcs(gcs_uri)}\" type=\"video/mp4\">\n",
        "        Your browser does not support the video tag.\n",
        "    </video>\n",
        "    \"\"\"\n",
        "        )\n",
        "    )\n",
        "\n",
        "\n",
        "def print_similar_images(query_emb: list[float], data_frame: pd.DataFrame):\n",
        "    # calc dot product\n",
        "    image_embs = data_frame[\"image_embeddings\"]\n",
        "    scores = [np.dot(eval(image_emb), query_emb) for image_emb in image_embs]\n",
        "    data_frame[\"score\"] = scores\n",
        "    data_frame = data_frame.sort_values(by=\"score\", ascending=False)\n",
        "\n",
        "    # print results\n",
        "    print(data_frame.head()[[\"score\", \"title\"]])\n",
        "    for url in data_frame.head()[\"gcs_path\"]:\n",
        "        display(ImageByte(url=get_public_url_from_gcs(url), width=200, height=200))\n",
        "\n",
        "\n",
        "def print_similar_videos(query_emb: list[float], data_frame: pd.DataFrame):\n",
        "    # calc dot product\n",
        "    video_embs = data_frame[\"video_embeddings\"]\n",
        "    scores = [np.dot(eval(video_emb), query_emb) for video_emb in video_embs]\n",
        "    data_frame[\"score\"] = scores\n",
        "    data_frame = data_frame.sort_values(by=\"score\", ascending=False)\n",
        "\n",
        "    # print results\n",
        "    print(data_frame.head()[[\"score\", \"file_name\"]])\n",
        "    url = data_frame.iloc[0][\"gcs_path\"]\n",
        "    display_video_from_gcs(url)"
      ]
    },
    {
      "cell_type": "markdown",
      "metadata": {
        "id": "2176030e88a0"
      },
      "source": [
        "## Generate Text Embeddings"
      ]
    },
    {
      "cell_type": "code",
      "execution_count": 8,
      "metadata": {
        "id": "beaMkDH9zlr2",
        "colab": {
          "base_uri": "https://localhost:8080/"
        },
        "outputId": "c698f932-cdff-4692-da11-9225a7d95f2d"
      },
      "outputs": [
        {
          "output_type": "stream",
          "name": "stdout",
          "text": [
            "length of embedding:  1408\n",
            "First five values are:  [-0.0211110823, -0.0376161449, 0.00776627054, -0.00773078855, 0.0153800128]\n"
          ]
        }
      ],
      "source": [
        "text_emb = get_text_embedding(text=\"What is life?\")\n",
        "print(\"length of embedding: \", len(text_emb))\n",
        "print(\"First five values are: \", text_emb[:5])"
      ]
    },
    {
      "cell_type": "markdown",
      "metadata": {
        "id": "oXC0cEjDywIM"
      },
      "source": [
        "#### Embeddings and Pandas DataFrames"
      ]
    },
    {
      "cell_type": "markdown",
      "metadata": {
        "id": "oug-MkjFywzc"
      },
      "source": [
        "If your text is stored in a column of a DataFrame, you can create a new column with the embeddings with the example below."
      ]
    },
    {
      "cell_type": "code",
      "execution_count": null,
      "metadata": {
        "id": "trpS0J6ByNd0"
      },
      "outputs": [],
      "source": [
        "text = [\n",
        "    \"i really enjoyed the movie last night\",\n",
        "    \"so many amazing cinematic scenes yesterday\",\n",
        "    \"had a great time writing my Python scripts a few days ago\",\n",
        "    \"huge sense of relief when my .py script finally ran without error\",\n",
        "    \"O Romeo, Romeo, wherefore art thou Romeo?\",\n",
        "]\n",
        "\n",
        "df = pd.DataFrame(text, columns=[\"text\"])\n",
        "df"
      ]
    },
    {
      "cell_type": "markdown",
      "metadata": {
        "id": "luwdn0qA0QZN"
      },
      "source": [
        "Create a new column, `embeddings`, using the [`apply()`](https://pandas.pydata.org/docs/reference/api/pandas.DataFrame.apply.html) function in pandas with the embeddings model."
      ]
    },
    {
      "cell_type": "code",
      "execution_count": null,
      "metadata": {
        "id": "etrempeSyQ9V"
      },
      "outputs": [],
      "source": [
        "df[\"embedding\"] = df.apply(lambda x: get_text_embedding(x.text), axis=1)\n",
        "df"
      ]
    },
    {
      "cell_type": "markdown",
      "metadata": {
        "id": "3_rtywdA0cv6"
      },
      "source": [
        "#### Comparing similarity of text examples using cosine similarity"
      ]
    },
    {
      "cell_type": "code",
      "execution_count": null,
      "metadata": {
        "id": "BXtUBuV9y4oX"
      },
      "outputs": [],
      "source": [
        "cos_sim_array = cosine_similarity(list(df.embedding.values))\n",
        "\n",
        "# display as DataFrame\n",
        "df = pd.DataFrame(cos_sim_array, index=text, columns=text)\n",
        "df"
      ]
    },
    {
      "cell_type": "markdown",
      "metadata": {
        "id": "BFE6uErz0gGe"
      },
      "source": [
        "To make this easier to understand, you can use a heatmap. Naturally, text is most similar when they are identical (score of 1.0). The next highest scores are when sentences are semantically similar. The lowest scores are when sentences are quite different in meaning."
      ]
    },
    {
      "cell_type": "code",
      "execution_count": null,
      "metadata": {
        "id": "6E4cfugj0gmC"
      },
      "outputs": [],
      "source": [
        "ax = sns.heatmap(df, annot=True, cmap=\"crest\")\n",
        "ax.xaxis.tick_top()\n",
        "ax.set_xticklabels(text, rotation=90)"
      ]
    },
    {
      "cell_type": "markdown",
      "metadata": {
        "id": "7a2d7f3e3a33"
      },
      "source": [
        "## Generate Image Embeddings"
      ]
    },
    {
      "cell_type": "code",
      "execution_count": 9,
      "metadata": {
        "id": "10kzx4YoVjMU",
        "colab": {
          "base_uri": "https://localhost:8080/"
        },
        "outputId": "bff94811-33d4-47be-af37-76e86cb35a74"
      },
      "outputs": [
        {
          "output_type": "stream",
          "name": "stdout",
          "text": [
            "https://storage.googleapis.com/github-repo/embeddings/getting_started_embeddings/gms_images/GGOEACBA104999.jpg\n"
          ]
        },
        {
          "output_type": "stream",
          "name": "stderr",
          "text": [
            "/usr/local/lib/python3.12/dist-packages/vertexai/vision_models/_vision_models.py:153: UserWarning: This feature is deprecated as of June 24, 2025 and will be removed on June 24, 2026. For details, see https://cloud.google.com/vertex-ai/generative-ai/docs/deprecations/genai-vertexai-sdk.\n",
            "  warning_logs.show_deprecation_warning()\n"
          ]
        },
        {
          "output_type": "stream",
          "name": "stdout",
          "text": [
            "length of embedding:  1408\n",
            "First five values are:  [-0.000501832459, 0.0334775187, -0.0165628903, 0.0210417937, -0.00548509462]\n"
          ]
        }
      ],
      "source": [
        "# Image embeddings with default 1408 dimension\n",
        "image_path = \"gs://github-repo/embeddings/getting_started_embeddings/gms_images/GGOEACBA104999.jpg\"\n",
        "print(get_public_url_from_gcs(image_path))\n",
        "\n",
        "image_emb = get_image_embedding(\n",
        "    image_path=image_path,\n",
        ")\n",
        "print(\"length of embedding: \", len(image_emb))\n",
        "print(\"First five values are: \", image_emb[:5])"
      ]
    },
    {
      "cell_type": "markdown",
      "metadata": {
        "id": "73CFiID6WNo8"
      },
      "source": [
        "### Find product images based on text search query"
      ]
    },
    {
      "cell_type": "code",
      "execution_count": 10,
      "metadata": {
        "id": "nigd4xO7Vow5",
        "colab": {
          "base_uri": "https://localhost:8080/",
          "height": 625
        },
        "outputId": "db1024cf-372a-4422-e213-8a51be9f36ba"
      },
      "outputs": [
        {
          "output_type": "execute_result",
          "data": {
            "text/plain": [
              "     parent_sku                        parent_description  retail_price  \\\n",
              "0  GGOEAXXX1947                  Android Keyboard Sticker           2.0   \n",
              "1  GGOEGXXX1238                     Google Pen Neon Coral           2.0   \n",
              "2  GGOEGXXX1983  Google Hologram Sunnyvale Campus Sticker           2.0   \n",
              "3  GGOEGXXX1773                     Google Maps Wheat Pen           2.0   \n",
              "4  GGOECXXX1946             Google Cloud Keyboard Sticker           2.0   \n",
              "\n",
              "                                             img_url  \\\n",
              "0  https://shop.googlemerchandisestore.com/store/...   \n",
              "1  https://shop.googlemerchandisestore.com/store/...   \n",
              "2  https://shop.googlemerchandisestore.com/store/...   \n",
              "3  https://shop.googlemerchandisestore.com/store/...   \n",
              "4  https://shop.googlemerchandisestore.com/store/...   \n",
              "\n",
              "                                             seo_url  \\\n",
              "0  https://shop.googlemerchandisestore.com/Google...   \n",
              "1  https://shop.googlemerchandisestore.com/Google...   \n",
              "2  https://shop.googlemerchandisestore.com/Google...   \n",
              "3  https://shop.googlemerchandisestore.com/Google...   \n",
              "4  https://shop.googlemerchandisestore.com/Google...   \n",
              "\n",
              "                                      title  \\\n",
              "0                  Android Keyboard Sticker   \n",
              "1                     Google Pen Neon Coral   \n",
              "2  Google Hologram Sunnyvale Campus Sticker   \n",
              "3                     Google Maps Wheat Pen   \n",
              "4             Google Cloud Keyboard Sticker   \n",
              "\n",
              "                                           shortdesc  \\\n",
              "0  Add some character to your keyboard!  This sma...   \n",
              "1  Whether you are signing official documents or ...   \n",
              "2  Nostalgic and fun for everyone, our exclusive ...   \n",
              "3  Drop your pen to paper and start planning your...   \n",
              "4  Add some character to your keyboard!  This sma...   \n",
              "\n",
              "                                            longdesc  \\\n",
              "0  <div><p dir=\"ltr\"><span>Sticker measures ½  x ...   \n",
              "1  <div><p>Soft touch surface.</p><p>Fine point g...   \n",
              "2  <div><p dir=\"ltr\"><span>Sticker measures 3 H</...   \n",
              "3  <div><p>Black Ink </p><p>Retractable medium ba...   \n",
              "4  <div><p dir=\"ltr\"><span>Sticker measures ½  x ...   \n",
              "\n",
              "                                            keywords  \\\n",
              "0                           Android Keyboard Sticker   \n",
              "1  Google Pen Neon Coral, Google, pen, orange, co...   \n",
              "2           Google Hologram Sunnyvale Campus Sticker   \n",
              "3                              Google Maps Wheat Pen   \n",
              "4                      Google Cloud Keyboard Sticker   \n",
              "\n",
              "                                     metadescription  \\\n",
              "0  Shop Google Merchandise store for Android Keyb...   \n",
              "1  Shop Google Merchandise Store for Google Pen N...   \n",
              "2  Shop Google Merchandise store for Google Holog...   \n",
              "3  Shop Google Merchandise Store for Google Maps ...   \n",
              "4  Shop Google Merchandise store for Google Cloud...   \n",
              "\n",
              "                                     file_path  \\\n",
              "0  /content/data/gms_images/GGOEAFKA194799.jpg   \n",
              "1  /content/data/gms_images/GGOEGOAN123899.jpg   \n",
              "2  /content/data/gms_images/GGOEGCKA198399.jpg   \n",
              "3  /content/data/gms_images/GGOEGOAB177399.jpg   \n",
              "4  /content/data/gms_images/GGOECFKA194699.jpg   \n",
              "\n",
              "                                            gcs_path  \\\n",
              "0  gs://github-repo/embeddings/getting_started_em...   \n",
              "1  gs://github-repo/embeddings/getting_started_em...   \n",
              "2  gs://github-repo/embeddings/getting_started_em...   \n",
              "3  gs://github-repo/embeddings/getting_started_em...   \n",
              "4  gs://github-repo/embeddings/getting_started_em...   \n",
              "\n",
              "                                       combined_text  \\\n",
              "0  Android Keyboard Sticker Android Keyboard Stic...   \n",
              "1  Google Pen Neon Coral Google Pen Neon Coral, G...   \n",
              "2  Google Hologram Sunnyvale Campus Sticker Googl...   \n",
              "3  Google Maps Wheat Pen Google Maps Wheat Pen Sh...   \n",
              "4  Google Cloud Keyboard Sticker Google Cloud Key...   \n",
              "\n",
              "                                    image_embeddings  \\\n",
              "0  [-0.019712951, -0.00683932705, 0.0385046713, 0...   \n",
              "1  [0.0312964357, 0.0266801305, -0.00428772392, 0...   \n",
              "2  [-0.0115588326, 0.0233894847, 0.0509909727, 0....   \n",
              "3  [0.0108120618, 0.0177407321, -0.0159502737, 0....   \n",
              "4  [-0.0243009, 0.0230779219, 0.039797049, 0.0337...   \n",
              "\n",
              "                                     text_embeddings  \n",
              "0  [-0.0003441123408265412, -0.020794985815882683...  \n",
              "1  [0.015119598247110844, -0.05192413181066513, -...  \n",
              "2  [0.008340244181454182, -0.019928857684135437, ...  \n",
              "3  [0.0009172282880172133, -0.05302327498793602, ...  \n",
              "4  [0.015464423224329948, -0.025598861277103424, ...  "
            ],
            "text/html": [
              "\n",
              "  <div id=\"df-f964ff68-87d9-453b-bd5e-5cd54fcc35f3\" class=\"colab-df-container\">\n",
              "    <div>\n",
              "<style scoped>\n",
              "    .dataframe tbody tr th:only-of-type {\n",
              "        vertical-align: middle;\n",
              "    }\n",
              "\n",
              "    .dataframe tbody tr th {\n",
              "        vertical-align: top;\n",
              "    }\n",
              "\n",
              "    .dataframe thead th {\n",
              "        text-align: right;\n",
              "    }\n",
              "</style>\n",
              "<table border=\"1\" class=\"dataframe\">\n",
              "  <thead>\n",
              "    <tr style=\"text-align: right;\">\n",
              "      <th></th>\n",
              "      <th>parent_sku</th>\n",
              "      <th>parent_description</th>\n",
              "      <th>retail_price</th>\n",
              "      <th>img_url</th>\n",
              "      <th>seo_url</th>\n",
              "      <th>title</th>\n",
              "      <th>shortdesc</th>\n",
              "      <th>longdesc</th>\n",
              "      <th>keywords</th>\n",
              "      <th>metadescription</th>\n",
              "      <th>file_path</th>\n",
              "      <th>gcs_path</th>\n",
              "      <th>combined_text</th>\n",
              "      <th>image_embeddings</th>\n",
              "      <th>text_embeddings</th>\n",
              "    </tr>\n",
              "  </thead>\n",
              "  <tbody>\n",
              "    <tr>\n",
              "      <th>0</th>\n",
              "      <td>GGOEAXXX1947</td>\n",
              "      <td>Android Keyboard Sticker</td>\n",
              "      <td>2.0</td>\n",
              "      <td>https://shop.googlemerchandisestore.com/store/...</td>\n",
              "      <td>https://shop.googlemerchandisestore.com/Google...</td>\n",
              "      <td>Android Keyboard Sticker</td>\n",
              "      <td>Add some character to your keyboard!  This sma...</td>\n",
              "      <td>&lt;div&gt;&lt;p dir=\"ltr\"&gt;&lt;span&gt;Sticker measures ½  x ...</td>\n",
              "      <td>Android Keyboard Sticker</td>\n",
              "      <td>Shop Google Merchandise store for Android Keyb...</td>\n",
              "      <td>/content/data/gms_images/GGOEAFKA194799.jpg</td>\n",
              "      <td>gs://github-repo/embeddings/getting_started_em...</td>\n",
              "      <td>Android Keyboard Sticker Android Keyboard Stic...</td>\n",
              "      <td>[-0.019712951, -0.00683932705, 0.0385046713, 0...</td>\n",
              "      <td>[-0.0003441123408265412, -0.020794985815882683...</td>\n",
              "    </tr>\n",
              "    <tr>\n",
              "      <th>1</th>\n",
              "      <td>GGOEGXXX1238</td>\n",
              "      <td>Google Pen Neon Coral</td>\n",
              "      <td>2.0</td>\n",
              "      <td>https://shop.googlemerchandisestore.com/store/...</td>\n",
              "      <td>https://shop.googlemerchandisestore.com/Google...</td>\n",
              "      <td>Google Pen Neon Coral</td>\n",
              "      <td>Whether you are signing official documents or ...</td>\n",
              "      <td>&lt;div&gt;&lt;p&gt;Soft touch surface.&lt;/p&gt;&lt;p&gt;Fine point g...</td>\n",
              "      <td>Google Pen Neon Coral, Google, pen, orange, co...</td>\n",
              "      <td>Shop Google Merchandise Store for Google Pen N...</td>\n",
              "      <td>/content/data/gms_images/GGOEGOAN123899.jpg</td>\n",
              "      <td>gs://github-repo/embeddings/getting_started_em...</td>\n",
              "      <td>Google Pen Neon Coral Google Pen Neon Coral, G...</td>\n",
              "      <td>[0.0312964357, 0.0266801305, -0.00428772392, 0...</td>\n",
              "      <td>[0.015119598247110844, -0.05192413181066513, -...</td>\n",
              "    </tr>\n",
              "    <tr>\n",
              "      <th>2</th>\n",
              "      <td>GGOEGXXX1983</td>\n",
              "      <td>Google Hologram Sunnyvale Campus Sticker</td>\n",
              "      <td>2.0</td>\n",
              "      <td>https://shop.googlemerchandisestore.com/store/...</td>\n",
              "      <td>https://shop.googlemerchandisestore.com/Google...</td>\n",
              "      <td>Google Hologram Sunnyvale Campus Sticker</td>\n",
              "      <td>Nostalgic and fun for everyone, our exclusive ...</td>\n",
              "      <td>&lt;div&gt;&lt;p dir=\"ltr\"&gt;&lt;span&gt;Sticker measures 3 H&lt;/...</td>\n",
              "      <td>Google Hologram Sunnyvale Campus Sticker</td>\n",
              "      <td>Shop Google Merchandise store for Google Holog...</td>\n",
              "      <td>/content/data/gms_images/GGOEGCKA198399.jpg</td>\n",
              "      <td>gs://github-repo/embeddings/getting_started_em...</td>\n",
              "      <td>Google Hologram Sunnyvale Campus Sticker Googl...</td>\n",
              "      <td>[-0.0115588326, 0.0233894847, 0.0509909727, 0....</td>\n",
              "      <td>[0.008340244181454182, -0.019928857684135437, ...</td>\n",
              "    </tr>\n",
              "    <tr>\n",
              "      <th>3</th>\n",
              "      <td>GGOEGXXX1773</td>\n",
              "      <td>Google Maps Wheat Pen</td>\n",
              "      <td>2.0</td>\n",
              "      <td>https://shop.googlemerchandisestore.com/store/...</td>\n",
              "      <td>https://shop.googlemerchandisestore.com/Google...</td>\n",
              "      <td>Google Maps Wheat Pen</td>\n",
              "      <td>Drop your pen to paper and start planning your...</td>\n",
              "      <td>&lt;div&gt;&lt;p&gt;Black Ink &lt;/p&gt;&lt;p&gt;Retractable medium ba...</td>\n",
              "      <td>Google Maps Wheat Pen</td>\n",
              "      <td>Shop Google Merchandise Store for Google Maps ...</td>\n",
              "      <td>/content/data/gms_images/GGOEGOAB177399.jpg</td>\n",
              "      <td>gs://github-repo/embeddings/getting_started_em...</td>\n",
              "      <td>Google Maps Wheat Pen Google Maps Wheat Pen Sh...</td>\n",
              "      <td>[0.0108120618, 0.0177407321, -0.0159502737, 0....</td>\n",
              "      <td>[0.0009172282880172133, -0.05302327498793602, ...</td>\n",
              "    </tr>\n",
              "    <tr>\n",
              "      <th>4</th>\n",
              "      <td>GGOECXXX1946</td>\n",
              "      <td>Google Cloud Keyboard Sticker</td>\n",
              "      <td>2.0</td>\n",
              "      <td>https://shop.googlemerchandisestore.com/store/...</td>\n",
              "      <td>https://shop.googlemerchandisestore.com/Google...</td>\n",
              "      <td>Google Cloud Keyboard Sticker</td>\n",
              "      <td>Add some character to your keyboard!  This sma...</td>\n",
              "      <td>&lt;div&gt;&lt;p dir=\"ltr\"&gt;&lt;span&gt;Sticker measures ½  x ...</td>\n",
              "      <td>Google Cloud Keyboard Sticker</td>\n",
              "      <td>Shop Google Merchandise store for Google Cloud...</td>\n",
              "      <td>/content/data/gms_images/GGOECFKA194699.jpg</td>\n",
              "      <td>gs://github-repo/embeddings/getting_started_em...</td>\n",
              "      <td>Google Cloud Keyboard Sticker Google Cloud Key...</td>\n",
              "      <td>[-0.0243009, 0.0230779219, 0.039797049, 0.0337...</td>\n",
              "      <td>[0.015464423224329948, -0.025598861277103424, ...</td>\n",
              "    </tr>\n",
              "  </tbody>\n",
              "</table>\n",
              "</div>\n",
              "    <div class=\"colab-df-buttons\">\n",
              "\n",
              "  <div class=\"colab-df-container\">\n",
              "    <button class=\"colab-df-convert\" onclick=\"convertToInteractive('df-f964ff68-87d9-453b-bd5e-5cd54fcc35f3')\"\n",
              "            title=\"Convert this dataframe to an interactive table.\"\n",
              "            style=\"display:none;\">\n",
              "\n",
              "  <svg xmlns=\"http://www.w3.org/2000/svg\" height=\"24px\" viewBox=\"0 -960 960 960\">\n",
              "    <path d=\"M120-120v-720h720v720H120Zm60-500h600v-160H180v160Zm220 220h160v-160H400v160Zm0 220h160v-160H400v160ZM180-400h160v-160H180v160Zm440 0h160v-160H620v160ZM180-180h160v-160H180v160Zm440 0h160v-160H620v160Z\"/>\n",
              "  </svg>\n",
              "    </button>\n",
              "\n",
              "  <style>\n",
              "    .colab-df-container {\n",
              "      display:flex;\n",
              "      gap: 12px;\n",
              "    }\n",
              "\n",
              "    .colab-df-convert {\n",
              "      background-color: #E8F0FE;\n",
              "      border: none;\n",
              "      border-radius: 50%;\n",
              "      cursor: pointer;\n",
              "      display: none;\n",
              "      fill: #1967D2;\n",
              "      height: 32px;\n",
              "      padding: 0 0 0 0;\n",
              "      width: 32px;\n",
              "    }\n",
              "\n",
              "    .colab-df-convert:hover {\n",
              "      background-color: #E2EBFA;\n",
              "      box-shadow: 0px 1px 2px rgba(60, 64, 67, 0.3), 0px 1px 3px 1px rgba(60, 64, 67, 0.15);\n",
              "      fill: #174EA6;\n",
              "    }\n",
              "\n",
              "    .colab-df-buttons div {\n",
              "      margin-bottom: 4px;\n",
              "    }\n",
              "\n",
              "    [theme=dark] .colab-df-convert {\n",
              "      background-color: #3B4455;\n",
              "      fill: #D2E3FC;\n",
              "    }\n",
              "\n",
              "    [theme=dark] .colab-df-convert:hover {\n",
              "      background-color: #434B5C;\n",
              "      box-shadow: 0px 1px 3px 1px rgba(0, 0, 0, 0.15);\n",
              "      filter: drop-shadow(0px 1px 2px rgba(0, 0, 0, 0.3));\n",
              "      fill: #FFFFFF;\n",
              "    }\n",
              "  </style>\n",
              "\n",
              "    <script>\n",
              "      const buttonEl =\n",
              "        document.querySelector('#df-f964ff68-87d9-453b-bd5e-5cd54fcc35f3 button.colab-df-convert');\n",
              "      buttonEl.style.display =\n",
              "        google.colab.kernel.accessAllowed ? 'block' : 'none';\n",
              "\n",
              "      async function convertToInteractive(key) {\n",
              "        const element = document.querySelector('#df-f964ff68-87d9-453b-bd5e-5cd54fcc35f3');\n",
              "        const dataTable =\n",
              "          await google.colab.kernel.invokeFunction('convertToInteractive',\n",
              "                                                    [key], {});\n",
              "        if (!dataTable) return;\n",
              "\n",
              "        const docLinkHtml = 'Like what you see? Visit the ' +\n",
              "          '<a target=\"_blank\" href=https://colab.research.google.com/notebooks/data_table.ipynb>data table notebook</a>'\n",
              "          + ' to learn more about interactive tables.';\n",
              "        element.innerHTML = '';\n",
              "        dataTable['output_type'] = 'display_data';\n",
              "        await google.colab.output.renderOutput(dataTable, element);\n",
              "        const docLink = document.createElement('div');\n",
              "        docLink.innerHTML = docLinkHtml;\n",
              "        element.appendChild(docLink);\n",
              "      }\n",
              "    </script>\n",
              "  </div>\n",
              "\n",
              "\n",
              "    <div id=\"df-17b38162-3260-46a6-83dd-b4608bc44d11\">\n",
              "      <button class=\"colab-df-quickchart\" onclick=\"quickchart('df-17b38162-3260-46a6-83dd-b4608bc44d11')\"\n",
              "                title=\"Suggest charts\"\n",
              "                style=\"display:none;\">\n",
              "\n",
              "<svg xmlns=\"http://www.w3.org/2000/svg\" height=\"24px\"viewBox=\"0 0 24 24\"\n",
              "     width=\"24px\">\n",
              "    <g>\n",
              "        <path d=\"M19 3H5c-1.1 0-2 .9-2 2v14c0 1.1.9 2 2 2h14c1.1 0 2-.9 2-2V5c0-1.1-.9-2-2-2zM9 17H7v-7h2v7zm4 0h-2V7h2v10zm4 0h-2v-4h2v4z\"/>\n",
              "    </g>\n",
              "</svg>\n",
              "      </button>\n",
              "\n",
              "<style>\n",
              "  .colab-df-quickchart {\n",
              "      --bg-color: #E8F0FE;\n",
              "      --fill-color: #1967D2;\n",
              "      --hover-bg-color: #E2EBFA;\n",
              "      --hover-fill-color: #174EA6;\n",
              "      --disabled-fill-color: #AAA;\n",
              "      --disabled-bg-color: #DDD;\n",
              "  }\n",
              "\n",
              "  [theme=dark] .colab-df-quickchart {\n",
              "      --bg-color: #3B4455;\n",
              "      --fill-color: #D2E3FC;\n",
              "      --hover-bg-color: #434B5C;\n",
              "      --hover-fill-color: #FFFFFF;\n",
              "      --disabled-bg-color: #3B4455;\n",
              "      --disabled-fill-color: #666;\n",
              "  }\n",
              "\n",
              "  .colab-df-quickchart {\n",
              "    background-color: var(--bg-color);\n",
              "    border: none;\n",
              "    border-radius: 50%;\n",
              "    cursor: pointer;\n",
              "    display: none;\n",
              "    fill: var(--fill-color);\n",
              "    height: 32px;\n",
              "    padding: 0;\n",
              "    width: 32px;\n",
              "  }\n",
              "\n",
              "  .colab-df-quickchart:hover {\n",
              "    background-color: var(--hover-bg-color);\n",
              "    box-shadow: 0 1px 2px rgba(60, 64, 67, 0.3), 0 1px 3px 1px rgba(60, 64, 67, 0.15);\n",
              "    fill: var(--button-hover-fill-color);\n",
              "  }\n",
              "\n",
              "  .colab-df-quickchart-complete:disabled,\n",
              "  .colab-df-quickchart-complete:disabled:hover {\n",
              "    background-color: var(--disabled-bg-color);\n",
              "    fill: var(--disabled-fill-color);\n",
              "    box-shadow: none;\n",
              "  }\n",
              "\n",
              "  .colab-df-spinner {\n",
              "    border: 2px solid var(--fill-color);\n",
              "    border-color: transparent;\n",
              "    border-bottom-color: var(--fill-color);\n",
              "    animation:\n",
              "      spin 1s steps(1) infinite;\n",
              "  }\n",
              "\n",
              "  @keyframes spin {\n",
              "    0% {\n",
              "      border-color: transparent;\n",
              "      border-bottom-color: var(--fill-color);\n",
              "      border-left-color: var(--fill-color);\n",
              "    }\n",
              "    20% {\n",
              "      border-color: transparent;\n",
              "      border-left-color: var(--fill-color);\n",
              "      border-top-color: var(--fill-color);\n",
              "    }\n",
              "    30% {\n",
              "      border-color: transparent;\n",
              "      border-left-color: var(--fill-color);\n",
              "      border-top-color: var(--fill-color);\n",
              "      border-right-color: var(--fill-color);\n",
              "    }\n",
              "    40% {\n",
              "      border-color: transparent;\n",
              "      border-right-color: var(--fill-color);\n",
              "      border-top-color: var(--fill-color);\n",
              "    }\n",
              "    60% {\n",
              "      border-color: transparent;\n",
              "      border-right-color: var(--fill-color);\n",
              "    }\n",
              "    80% {\n",
              "      border-color: transparent;\n",
              "      border-right-color: var(--fill-color);\n",
              "      border-bottom-color: var(--fill-color);\n",
              "    }\n",
              "    90% {\n",
              "      border-color: transparent;\n",
              "      border-bottom-color: var(--fill-color);\n",
              "    }\n",
              "  }\n",
              "</style>\n",
              "\n",
              "      <script>\n",
              "        async function quickchart(key) {\n",
              "          const quickchartButtonEl =\n",
              "            document.querySelector('#' + key + ' button');\n",
              "          quickchartButtonEl.disabled = true;  // To prevent multiple clicks.\n",
              "          quickchartButtonEl.classList.add('colab-df-spinner');\n",
              "          try {\n",
              "            const charts = await google.colab.kernel.invokeFunction(\n",
              "                'suggestCharts', [key], {});\n",
              "          } catch (error) {\n",
              "            console.error('Error during call to suggestCharts:', error);\n",
              "          }\n",
              "          quickchartButtonEl.classList.remove('colab-df-spinner');\n",
              "          quickchartButtonEl.classList.add('colab-df-quickchart-complete');\n",
              "        }\n",
              "        (() => {\n",
              "          let quickchartButtonEl =\n",
              "            document.querySelector('#df-17b38162-3260-46a6-83dd-b4608bc44d11 button');\n",
              "          quickchartButtonEl.style.display =\n",
              "            google.colab.kernel.accessAllowed ? 'block' : 'none';\n",
              "        })();\n",
              "      </script>\n",
              "    </div>\n",
              "\n",
              "    </div>\n",
              "  </div>\n"
            ],
            "application/vnd.google.colaboratory.intrinsic+json": {
              "type": "dataframe",
              "variable_name": "product_image_list",
              "summary": "{\n  \"name\": \"product_image_list\",\n  \"rows\": 358,\n  \"fields\": [\n    {\n      \"column\": \"parent_sku\",\n      \"properties\": {\n        \"dtype\": \"string\",\n        \"num_unique_values\": 358,\n        \"samples\": [\n          \"GGOEGXXX2045\",\n          \"GGOECXXX1985\",\n          \"GGOEGXXX1851\"\n        ],\n        \"semantic_type\": \"\",\n        \"description\": \"\"\n      }\n    },\n    {\n      \"column\": \"parent_description\",\n      \"properties\": {\n        \"dtype\": \"string\",\n        \"num_unique_values\": 358,\n        \"samples\": [\n          \"Google Marled Midnight Tee\",\n          \"Google Cloud Patch\",\n          \"Google Recycled Laptop Sleeve\"\n        ],\n        \"semantic_type\": \"\",\n        \"description\": \"\"\n      }\n    },\n    {\n      \"column\": \"retail_price\",\n      \"properties\": {\n        \"dtype\": \"number\",\n        \"std\": 27.316400171611242,\n        \"min\": 1.5,\n        \"max\": 155.0,\n        \"num_unique_values\": 75,\n        \"samples\": [\n          4.5,\n          63.0,\n          10.0\n        ],\n        \"semantic_type\": \"\",\n        \"description\": \"\"\n      }\n    },\n    {\n      \"column\": \"img_url\",\n      \"properties\": {\n        \"dtype\": \"string\",\n        \"num_unique_values\": 358,\n        \"samples\": [\n          \"https://shop.googlemerchandisestore.com/store/20160512512/assets/items/images/GGOEGXXX2045.jpg\",\n          \"https://shop.googlemerchandisestore.com/store/20160512512/assets/items/images/GGOECCBA198599.jpg\",\n          \"https://shop.googlemerchandisestore.com/store/20160512512/assets/items/images/GGOEGOBB185199.jpg\"\n        ],\n        \"semantic_type\": \"\",\n        \"description\": \"\"\n      }\n    },\n    {\n      \"column\": \"seo_url\",\n      \"properties\": {\n        \"dtype\": \"string\",\n        \"num_unique_values\": 358,\n        \"samples\": [\n          \"https://shop.googlemerchandisestore.com/Google+Redesign/Apparel/Google+Marled+Midnight+Tee\",\n          \"https://shop.googlemerchandisestore.com/Google+Redesign/Google+Cloud+Patch\",\n          \"https://shop.googlemerchandisestore.com/Google+Redesign/Google+Recycled+Laptop+Sleeve\"\n        ],\n        \"semantic_type\": \"\",\n        \"description\": \"\"\n      }\n    },\n    {\n      \"column\": \"title\",\n      \"properties\": {\n        \"dtype\": \"string\",\n        \"num_unique_values\": 358,\n        \"samples\": [\n          \"Google Marled Midnight Tee\",\n          \"Google Cloud Patch\",\n          \"Google Recycled Laptop Sleeve\"\n        ],\n        \"semantic_type\": \"\",\n        \"description\": \"\"\n      }\n    },\n    {\n      \"column\": \"shortdesc\",\n      \"properties\": {\n        \"dtype\": \"string\",\n        \"num_unique_values\": 326,\n        \"samples\": [\n          \"These super soft Google fleece joggers, made for all day every day, offer supreme style and comfort.\",\n          \"We think this is everything you could want in a mug!  A sturdy large handle, smooth finish, modern looks and of course, Android!\",\n          \"When you just need a little something extra to take the chill off, we've got you covered. Literally! This pocket-packable, vegan-filled Google puffer vest will be your warm hug, time and time again.\"\n        ],\n        \"semantic_type\": \"\",\n        \"description\": \"\"\n      }\n    },\n    {\n      \"column\": \"longdesc\",\n      \"properties\": {\n        \"dtype\": \"string\",\n        \"num_unique_values\": 226,\n        \"samples\": [\n          \"<div><p>Match the logo to any key on the keyboard</p><p>3M adhesive</p><p>Polyuerethane material</p></div>\",\n          \"<div>100% Nylon Exterior Shell<br />60 gm Hyper-Loft poly fill insulation<br />100% polyester lining</div>\",\n          \"<div><p>100% ringspun cotton</p></div>\"\n        ],\n        \"semantic_type\": \"\",\n        \"description\": \"\"\n      }\n    },\n    {\n      \"column\": \"keywords\",\n      \"properties\": {\n        \"dtype\": \"string\",\n        \"num_unique_values\": 358,\n        \"samples\": [\n          \"Google Marled Midnight Tee\",\n          \"Google Cloud Patch\",\n          \"Google Recycled Laptop Sleeve\"\n        ],\n        \"semantic_type\": \"\",\n        \"description\": \"\"\n      }\n    },\n    {\n      \"column\": \"metadescription\",\n      \"properties\": {\n        \"dtype\": \"string\",\n        \"num_unique_values\": 356,\n        \"samples\": [\n          \"Shop Google Merchandise Store for Unisex Google Pocket Tee Grey\",\n          \"Shop Google Merchandise store for Google Doogler Patch\",\n          \"Shop Google Merchandise store for Google Speckled MiiR Tumbler\"\n        ],\n        \"semantic_type\": \"\",\n        \"description\": \"\"\n      }\n    },\n    {\n      \"column\": \"file_path\",\n      \"properties\": {\n        \"dtype\": \"string\",\n        \"num_unique_values\": 358,\n        \"samples\": [\n          \"/content/data/gms_images/GGOEGXXX2045.jpg\",\n          \"/content/data/gms_images/GGOECCBA198599.jpg\",\n          \"/content/data/gms_images/GGOEGOBB185199.jpg\"\n        ],\n        \"semantic_type\": \"\",\n        \"description\": \"\"\n      }\n    },\n    {\n      \"column\": \"gcs_path\",\n      \"properties\": {\n        \"dtype\": \"string\",\n        \"num_unique_values\": 358,\n        \"samples\": [\n          \"gs://github-repo/embeddings/getting_started_embeddings/gms_images/GGOEGXXX2045.jpg\",\n          \"gs://github-repo/embeddings/getting_started_embeddings/gms_images/GGOECCBA198599.jpg\",\n          \"gs://github-repo/embeddings/getting_started_embeddings/gms_images/GGOEGOBB185199.jpg\"\n        ],\n        \"semantic_type\": \"\",\n        \"description\": \"\"\n      }\n    },\n    {\n      \"column\": \"combined_text\",\n      \"properties\": {\n        \"dtype\": \"string\",\n        \"num_unique_values\": 358,\n        \"samples\": [\n          \"Google Marled Midnight Tee Google Marled Midnight Tee Shop Google Merchandise store for Google Marled Midnight Tee\",\n          \"Google Cloud Patch Google Cloud Patch Shop Google Merchandise store for Google Cloud Patch\",\n          \"Google Recycled Laptop Sleeve Google Recycled Laptop Sleeve Shop Google Merchandise store for Google Recycled Laptop Sleeve\"\n        ],\n        \"semantic_type\": \"\",\n        \"description\": \"\"\n      }\n    },\n    {\n      \"column\": \"image_embeddings\",\n      \"properties\": {\n        \"dtype\": \"string\",\n        \"num_unique_values\": 356,\n        \"samples\": [\n          \"[0.0160842296, 0.0399257168, 0.0251223892, 0.0174034033, -0.0232217889, 0.00711415382, 0.0277524218, -0.00594918896, -0.00281226053, 0.00807269, -0.0191992987, 0.0144230798, 0.00282045361, 0.208762631, -0.0096334517, 0.0104034441, 0.0232432857, 0.0130980434, 0.00186494342, 0.0418108702, 0.0862996727, 0.0183325745, -0.00994561147, 0.000891335367, -0.00127077207, 0.0112097627, -0.00579828909, 0.0173605923, -0.00128105225, 0.0187519416, 0.00433323113, 0.0260206256, -0.0345270149, 0.0198241379, -0.0122605525, -0.0173772611, 0.0100931562, 0.0122706881, 0.016587995, -0.0285844803, 0.0232903082, -0.0480441526, -0.01014324, -0.025153501, 0.00342820189, 0.00380650093, 0.0112100514, 0.00681276713, -0.00365710515, 0.0181988981, -0.0143610574, -0.0182041284, 0.00996092, -0.00069411844, 0.0278911479, -0.0126516074, -0.0160422437, -0.0101691419, 0.0191689525, -0.016830191, -0.0122899478, 0.00842687953, -0.0286593214, 0.0179529823, -0.0540422574, -0.0141774174, 0.00935011078, 0.00320222229, -0.00857893471, 0.0252129212, -0.0127833048, 0.00481842505, 0.0056690569, -0.0210514273, -0.00799897686, -0.00676679285, -0.020373093, -0.0327927843, 0.0309265852, 0.0117206043, -0.0126517909, 0.0366583206, -0.0105340285, -0.00864833, 0.00522612501, -0.0336626582, 0.00318733626, -0.0299040545, 0.00572491251, 0.00360659184, 0.042005837, 0.00917138, -0.0268916562, -0.151394352, -0.00671479851, -0.0577872507, -0.0277018175, 0.0173269287, 0.0120670917, -0.0201099254, 0.000326532288, -0.0123361135, -0.0211503804, -0.0374513604, -0.0508325137, -0.00390861509, 0.0209740978, -0.0686617419, 0.00412717229, 0.02466131, -0.0334729329, -0.0420680866, -0.0161384884, -0.0370213874, 0.0445204675, -0.00349361519, -0.0539074913, -0.010070879, 0.017292697, -0.0478684194, -0.0099598486, 0.0312447473, -0.0284588113, -0.0192272253, 0.0256793983, -0.0565383285, -0.0507027321, 0.00217077881, 0.00505850464, -0.0163147431, 0.00190898066, 0.0684066489, 0.037206959, -0.000516592234, -0.0159970727, -0.027460102, -0.0126883313, 0.0138406903, 0.00620103627, 0.049269177, -0.00874135923, 0.0119967451, -0.0272433292, -0.0308166519, 0.0493732952, 0.0127056083, 0.0200054571, 0.00858373, 0.00864025671, 0.0470090248, 0.00893568061, 0.0244071689, 0.052847635, -0.010094271, 0.00854417216, -0.00902426802, -0.0229156818, -0.00418149, -0.00266101561, -0.00577866659, -0.0626580045, -0.00648533879, 0.0241505839, 0.0227449015, 0.0278847218, -0.00845491, 0.016222354, 0.0153527455, -0.0119129438, -0.00947857182, 0.0171825457, -0.0338127166, 0.0186387151, -0.00778403599, 0.0559740737, 0.00227808417, -0.00805813354, 0.0367690623, -0.0198111665, -0.0295839645, -0.0300006904, 0.0313987061, 0.0107909217, -0.0197172873, -0.0389212519, 0.00828407, -0.0140540274, -0.0363865197, 0.0355436876, 0.0355206691, -0.00870221853, 0.000541962683, -0.000342476822, -0.00125070417, -0.012764696, -0.00435016491, 0.0121185239, 0.0170118902, 0.00994479563, 0.0305831023, -0.000771231309, 0.00134707836, -0.0225512739, 0.0152548691, -0.0247018747, -0.0190106072, 0.00907934736, 0.00470697135, -0.0119006047, 0.00727390731, -0.0455454476, -0.0194467, -0.000673227885, 0.029145468, -0.0309590325, 0.0258987844, 0.00667921593, 0.00934878737, -0.00586396642, -0.0192844681, 0.0150730452, 0.00027145003, -0.00459279539, -0.00524658151, -0.0121478355, 0.0258872714, 0.00682494137, -0.0116913058, -0.0279211979, 0.0470668748, -0.00807222631, -0.0320356265, -0.0157223362, 0.0180553105, -0.0387321785, 0.0324868858, 0.0104764411, 0.00594178494, 0.0218707696, -0.0500075817, 0.00978262722, 0.00981177483, -0.0147123784, -0.00946332421, 0.0116020581, -0.00314215, 0.0179230627, 0.000762808661, 0.0256496388, -0.00842857361, 0.00385185471, -0.0345628224, -0.0204846207, 0.0159546789, -0.0244454518, -0.00215235353, -0.0151860584, 0.00244949642, -0.0293570664, 0.0111728888, -0.00539338402, 0.00078919105, -0.0242331084, 0.00239431928, -0.00345131732, -0.0139092412, 0.00563507201, 0.0416643843, 0.00227761175, 0.0625928938, -0.0372424051, -0.0247779358, 0.0448609889, -0.0175853018, -0.0334518552, -0.030057136, 0.013329342, 0.0235416349, -0.00963450782, -0.0165290032, 0.0144509841, -0.027587356, -0.0149097508, -0.00113976817, 0.0191683713, 0.00656202855, -0.156025499, -0.00447721779, -0.0299306419, 0.00626854599, 0.00312304846, 0.000937418779, -0.0374145731, 0.0366222523, -0.00292960717, 0.00410078838, -0.00616502855, -0.0298114568, -0.0206932388, 0.0206075739, 0.0110679762, -0.0133070759, -0.0526729785, -0.000544601062, 0.00640470628, 0.00605534716, -0.00142463658, 0.0365092084, 0.016868785, 0.0159137771, 0.0157735106, 0.0613021813, -0.00959326606, 0.0152941346, -0.00458807265, -0.0190660078, 0.00870672, 0.0150702009, 0.0027212007, 0.0212169643, -0.0623384267, -0.00572483707, 0.0465943851, -0.0180321094, 0.0178061984, -0.005426405, -0.000202193449, -0.0175301023, 0.0100797974, 0.00450953841, -0.0340130366, 0.0302044544, -0.0150339287, 0.0163632743, 0.0055318, -0.0152451312, 0.00840299111, 0.000355228345, -0.00398411509, 0.0259779133, -0.0275160782, 0.035768088, 0.00319262571, 0.0123417377, 0.000283081201, 0.0397170223, -0.00321431691, -0.0159561988, -0.0186888799, 0.00190407317, 0.0268858541, -0.0215468, -0.0383058, 0.0262732152, -0.0108549036, 0.00574464723, -0.0224248, -0.0115222558, 0.0122991716, 0.00341271912, -0.0331806503, -0.0200070646, 0.00877495669, -0.00359292328, -0.0294558015, 0.0393999778, 0.0175753795, 0.015920097, 0.00503261574, -0.0200809222, 0.00155207841, 0.049250681, -0.0438051298, -0.0315692946, -0.0145355696, -0.0472173467, 0.00350824976, -0.0211285297, -0.0376131497, -0.00965108909, -0.0562230088, 0.0105400989, 0.0365390629, -0.0419697873, 0.0167437084, -0.0197753012, -0.0246683471, -0.00765465, -0.0148585895, 0.0160977207, 0.00632823864, 0.0188434534, -0.00554407574, -0.0260633472, -0.019936312, -0.0146366218, 0.0210826192, -0.00791369192, -0.0440962613, -0.000113474671, 0.00139790447, 0.0255936477, 0.0340750851, -0.000554209342, -0.00213118829, -0.00881357677, -0.000533408485, -0.0132186059, -0.0437138, -0.0241193548, -0.0201283656, -0.00198899047, 0.0252403691, 0.00421772897, 0.00376523077, 0.0287012514, -0.00670453394, -0.0178973675, -0.020606678, -0.0276377182, 0.00275305519, 0.0315689035, 0.00663714, -0.0346459858, -0.0303698089, 0.00704839, 0.0499288477, -0.0358481221, -0.00777357491, 0.0160886925, 0.0096288342, -0.033945512, 0.0179047342, 0.0256602373, 0.00779145863, -0.0157954283, 0.0166766718, 0.0159867983, 0.00965934806, -0.0170657225, 0.0135042965, -0.0322811231, -0.00536864763, -0.009124198, 0.00472357031, -0.0246083066, 0.0131408833, 0.00878872257, -0.00277852686, -0.0551211387, -0.0441366211, 0.00893096719, 0.0193275679, 0.0144611988, -0.013142053, -0.0166028105, -0.0107414508, -0.055762846, -0.0146623561, -0.0214564, -0.00161363662, -0.0291545857, 0.00431562169, 0.00547819445, 0.0207178313, 0.00152013556, 0.0310036857, -0.0134812575, -0.00151490979, 0.0194310639, -0.0410719, -0.00728633255, 0.0411988348, -0.0361615866, 0.0421056, -0.0158738233, -0.01708786, -0.0181192383, -0.0179394931, 0.0122588659, -0.00180936314, 0.00949560385, -0.00300128199, 0.0174806062, 0.0067722518, 0.00971006323, -0.00577463908, -0.0065452694, -0.0251376908, -0.0322597176, 0.0126852458, -0.0206772462, 0.0409644283, -0.0211119559, -0.0518612787, 0.0135027142, 0.00559723331, 0.000849076605, -0.00188968284, 0.015486653, 0.0280731879, 0.0010199782, 0.0747407228, -0.00869978871, 0.0134057067, -0.0156693105, 0.037672963, 0.00449415576, -0.0120614069, 0.0119050313, -0.0104733938, -0.0474304371, 0.03006161, -0.0168404374, -0.0374969, -0.0134184891, -0.00940353889, -0.0465088, -0.0224313214, -0.0065162438, 0.0227360874, 0.0344304442, -0.00135044707, -0.0260911174, -0.00593059836, 0.0285248924, -0.0263662655, -0.00284082047, 0.00125686766, -0.000301069929, 0.0451831408, -0.0379033089, -0.041078303, -0.0045830193, 0.0643378124, 0.0139616095, -0.00143322127, 0.025575079, 0.00378495734, 0.0200616717, 0.00783896074, -0.0194473751, -0.0090763, -0.00420373911, 0.000491465558, 0.00700408686, -0.00459911535, -0.0160919204, -0.0177000184, 0.0337006673, -0.0130864093, -0.0152604841, 0.0316324346, 0.0182547886, 0.00953367, -0.0157531835, -0.0124310218, 0.00565196853, 0.00773280393, -0.00666743563, -0.0374172926, 0.00889635, -0.0128158005, -0.0325362831, 0.015264364, -0.00384364696, 0.0233394373, -0.0133300945, -0.0169633217, -0.0208789147, -0.011700144, -0.0226450358, -0.0136441756, 0.00290435553, -0.00676742522, -0.00795641262, -0.00805429183, -0.0162519887, -0.0305954199, -0.00588858593, 0.0274186395, 0.00430622976, -0.0016382382, -0.00148505578, -0.00248312298, 0.0179875027, -0.0207237266, 0.0175152011, 0.0146951787, 0.0194134675, -0.00966512319, -0.0166802648, -0.00864076428, 0.0349900909, -0.00625881832, 0.0186570771, -0.0165359545, -0.00908451807, -0.0165865459, 0.00803209934, -0.0326455273, -0.0021447551, 0.00323476712, 0.0558645, -0.00803447608, -0.00106311589, -0.0178459827, -0.0352435298, -0.0235797092, 0.0132699683, -0.00583987497, -0.0126317712, 0.0199120548, 0.00966088381, 0.0558148734, 0.00344887958, 0.0399592258, 0.0229450874, -0.0525809303, -0.02356169, 0.00295866537, -0.0059304866, 0.00495770387, -0.00732747233, -0.00769215403, 0.0145129394, -0.0174789596, 0.00566025544, 0.0245698057, 0.0145854708, 0.0270109158, 0.00296026329, 0.00481683854, 0.0314486623, -0.00360939186, -0.0276893359, -0.0359009653, -0.0621618591, 0.0104282191, -0.0125702787, 0.0165476222, -0.0131654916, -0.0168710295, 0.022073986, -0.00718437368, -0.0199770555, -0.0168198552, -0.00987280067, -0.00448882626, 0.0162844788, 0.00792402774, -0.00892000552, -0.0210064575, -0.0295762774, -0.0254367329, -0.0135453548, 0.0201430712, 0.0288026389, 0.0142033566, -0.00930113532, -0.195958748, -0.000537343265, -0.0518235676, -0.0105899703, -0.0279230587, 0.0278033484, 0.0405770168, 0.00816584, 0.0052033551, -0.00972482935, 0.00407415675, -0.0068538934, -0.233873099, -0.00287689129, -0.0423917882, -0.00266765687, -0.0230891667, -0.02047907, -0.0168569945, -0.0122667877, 0.00132460031, -0.0151681872, -0.0296486374, 0.033883974, -0.00570993265, 0.00154929515, 0.0237392671, 0.0341960303, 0.00509943161, 0.00664023263, -0.0155635588, 0.0375858098, 0.0606602058, -0.00793703832, 0.0201707445, -0.0108496072, -0.00860495772, 0.0140348431, 0.0215139911, 0.0137980161, -0.00485407468, -0.0224198513, -9.18025544e-05, 0.0359526947, -0.00423589395, -0.032272, -0.0402152389, 0.0355318934, 0.000216325265, -0.0494439267, -0.0326309241, 0.0237103403, -0.00300491881, 0.0152706373, -0.0272599086, -0.0626329333, -0.0049560531, 0.00713374279, 0.0398695953, -0.0364097729, -0.0155517664, 0.000949651585, -0.0369586386, -0.0207757931, -0.0150984991, -0.0200375225, 0.00325333257, -0.0165347625, -0.0214266162, -0.0292871315, 0.0145475175, 0.0104436688, -0.0184479449, 0.0194787141, 0.0260065217, 4.37643066e-05, -0.00326009491, -0.0337767974, -0.0236415472, -0.0344406962, -0.0156648066, -0.0165309645, 0.0322379582, -0.005671944, 0.0185102858, 0.014736901, 0.0166324526, 0.0121586388, -0.150836661, 0.0216814801, 0.00280332938, 0.0200706702, 0.0101404637, 0.018501943, -0.00882085, -0.041992262, 0.0357995033, -0.0382413939, 0.0270616561, -0.0299723577, -0.0598625019, 0.00754838623, -0.00374091789, -0.00723450538, 0.0122520095, 0.000881263346, 0.00941324793, -0.0174095202, 0.00454499759, 0.0422201604, -0.0439206734, -0.0198926535, 0.0267680492, 0.00135414232, -0.0154531552, 0.00212453422, 0.0269311722, -0.0136430608, -0.0537460707, -0.0138442414, -0.0150650768, 0.0419181, 0.014441276, 0.019661773, -0.0155303814, 0.00408715475, 0.03121401, 0.0243348442, 0.0117109008, 0.00916481204, -0.0322072245, 0.00247536926, 0.0137140872, 0.0365729444, -0.0300812386, -0.00955559686, -0.0207832046, -0.0120679112, 0.0277964026, -0.00710796518, 0.0173400529, 0.00472960668, 0.0604358837, -0.0072734938, 0.0428312905, -0.0082675321, -0.0233935267, -0.0233931, 0.00458334852, -0.000681386387, -0.0295557082, 0.00428353343, -0.0118350778, 0.0291212201, 0.00797821581, 0.0160179827, 0.00222284393, -0.0787420347, 0.00740658073, -0.0279657412, 0.0106881354, -0.00728336303, 0.0480012037, -0.00260574603, 0.0264319349, 6.92673493e-05, 0.00748068141, -0.0205180198, 0.0335147865, 0.0120979259, 0.010896164, -0.00756575121, 0.0137329185, -0.0471112579, 0.00357467821, -0.00194166228, 0.0398239195, 0.0346932113, 0.00797823, -0.0143404081, -0.00109120738, -0.0313307457, 0.00762207853, -0.00643463666, 0.00433328468, -0.0270220265, -0.0104487063, -0.0137577532, -0.000108269276, -0.00101512193, -0.0320207663, -0.0169781521, 0.0217819903, 0.0199464131, 0.04092196, 0.00740732579, 0.0102824466, 0.0410574488, -0.0260379743, -0.0240467303, -0.0295994729, -0.00930036604, 0.0326154642, -0.00515304971, -0.0380402468, 0.0434740745, -0.00728466595, -0.0257600099, 0.0186594892, 0.00556687359, -0.00531991431, -0.0205251388, 0.0137674809, -0.0121378396, 0.00245920033, -0.0456289575, -0.0118834246, 0.03513515, 0.00584277092, 0.0403301455, 0.0363542438, -0.0147241233, -0.018127583, 0.00133935502, -0.0139695946, -0.0512121059, 0.012753156, -0.0203186609, 0.00682034111, -0.0277212784, 0.0179690626, 0.040397726, 0.00839361176, 0.0207380168, 0.0350834057, -0.0453994237, 0.00645206217, -0.0437724851, 0.0120839383, -0.00563355302, -0.0343398564, 0.00226247776, -0.0169615205, -0.00396509934, -0.00224956847, -0.0388526581, -0.00917003118, -0.0181693137, -0.0244118161, 0.018118782, 0.00686624926, 0.0257127099, -0.0176183544, -0.041392684, 0.0135397706, -0.0290435385, 0.0143389581, 0.00277611869, -0.00217577419, 0.0526493564, 0.0346200094, 0.0131094148, -0.0165303182, -0.00624801591, -0.021185359, -6.23236556e-05, 0.00304147066, -0.0726975277, 0.0224055424, -0.00434650108, -0.0367667638, -0.0469121709, -0.00417205319, 0.0101347156, -0.00170725281, -0.0425919518, -0.000394133152, -0.0155245801, -0.0203677882, -0.00758052804, -0.0292110685, -0.011358887, 0.0620691665, 0.000696679635, 0.0167593863, -0.0208160281, -0.0333116911, 0.00813414343, -0.00752630504, 0.0371477343, -0.0260848179, -0.0247464217, 0.00764611363, 0.0307418145, 0.0270484947, 0.0031582464, -0.0168875214, 0.0267637018, 0.00837922, 0.00026587816, -0.0121427849, -0.039489992, 0.0158993416, -0.0104710078, 0.00868760515, -0.0351126343, 0.0248220842, -0.00664020237, -0.00670257024, 0.0107747288, -0.0154070882, -0.00439271191, -0.0032084838, 0.0150734158, -0.0354676917, 0.0377130471, 0.0319394283, -0.0279303566, 4.02020414e-05, 0.00893249828, -0.0099110445, 0.00585368602, 0.012763652, -0.0414357707, 0.0325399823, 0.00122874137, -0.00911263749, 0.0117375208, -0.023175301, 0.0216042828, 0.0432670861, 0.0191812608, -0.00730944518, -0.0112638213, 0.0096480241, -0.0116836717, -0.0140571008, 0.00688568642, 0.0270472281, -0.0126894917, 0.0246146768, 0.0323206931, 0.0268328693, -0.00502031436, -0.00892674, -0.0286002308, -0.0285898298, -0.000813190767, -0.00168734754, -0.0126936277, 0.038155593, 0.00559611246, 0.0104522342, 0.0366881341, 0.0063984571, -0.00549064716, 0.000624155451, 0.0403430834, 0.0393262245, -0.0228873324, 0.031706661, -0.0135916844, 0.0158750322, 0.0115777124, 9.45657594e-05, -0.00423744181, -0.00140300079, -0.0240145773, 0.013043019, -0.0177595951, 0.00502314745, 0.0252161901, 0.0185871981, -0.0203586444, -0.0214489866, 0.0107061509, -0.0637209713, -0.0151453065, 0.0352958329, -0.0449325256, 0.00877846405, 0.0171918254, 0.00569444522, -0.00733575504, 0.000584884838, -0.0299069267, -0.0239289291, 0.0032087306, 0.0121689318, 0.0268537011, -0.0061623808, -0.00519469101, -0.00655448204, -0.00374721782, 0.0216521453, 0.0271475017, -0.0237157512, 0.029978279, 0.0229872223, 0.0146790845, -0.00517345639, -0.0269372985, 0.00812872685, -5.95357924e-05, -0.00806048233, -0.0183344223, -0.0125142671, -0.0143656814, -0.0508132353, -0.0107715381, -0.00504269963, 0.0116803944, -0.016802093, 0.0219057389, 0.0405214205, -0.010461662, 0.0141312396, -0.00550805824, 0.00983250234, 0.0206089411, 0.0321648605, -0.00906879827, 0.00392849697, 0.0146486731, -0.0193015076, -0.00601498457, 0.0298840944, -0.0215098169, 0.0254434142, 0.00377411605, -0.0436032116, 0.00925947726, 0.0218549427, 0.00467288634, -0.0186972935, 0.0234558731, -0.0255943574, -0.0176375881, -0.00304785185, 0.000938595098, -0.0196991414, 0.0102227088, 0.000262000074, -0.00165337988, 0.0100520775, -0.0342953242, 0.0222907308, 0.033733625, 0.00138853281, 0.00576858968, -0.00480695721, -0.0224229153, 0.0226631, -0.0085780127, 0.0182750933, -0.0144280074, -0.00716425, 0.0212153085, 0.00336620584, 0.00419907179, 0.00226027658, -0.0270663332, 0.0105663324, -0.0093112886, -0.00483213644, -0.0188816674, -0.000146887032, 0.0063894894, -0.0697957203, -0.0271737464, -0.0497327819, 0.0359303281, 0.0187084358, 0.0190368816, 0.00941602, -0.00929071, 0.0283217896, -0.0120644923, 0.0365717448, 0.0156576503, -0.0133881392, -0.0593738444, -0.0265467167, -0.0024953275, -0.0131608481, -0.0594244935, -0.0171326734, -0.0146099627, 0.0112343505, 0.00826557074, -0.0158314239, -0.00200494775, 0.00950917229, 0.0384657271, 0.0209874641, 0.0272464603, 0.0037734611, 0.00745404279, 0.0437707119, 0.013220028, 0.0107263, -0.00975725055, -0.00856137089, -0.050090909, -0.0180572737, -0.00286526838, 0.039674148, 0.0216557588, -0.0087329261, -0.0289518461, -0.0140876239, -0.0102877, -0.0190232862, -0.0209056363, -0.00479483698, -0.0147232618, 0.00463131256, 0.00625731237, -0.00282507134, -0.0427938066, 0.00144155498, -0.0233605634, 0.00363303232, 0.00731354393, -0.00615215814, -0.0222307127, -0.0159929581, 0.0207949858, -0.00643671071, 0.00149688509, -0.00391882285, 0.0118564283, 0.00266637607, -0.0075884345, -0.00443721, 0.0269972868, -0.0488259, -0.0250759963, -0.00038903809, -0.00737885479, 0.000675987103, -0.0508957282, 0.0424153209, -0.0394428447, -0.00776356738, -0.00951393228, 0.0183314774, -0.0350617468, -0.00691822357, -0.0272234101, -0.02559218, 0.0151112918, -0.00656548142, -0.00695639243, -0.0290127788, 0.0361343697, 0.00320925587, 0.0281139873, 0.00833508279, 0.00995045621, -6.36137556e-05, -0.05467204, -0.0234690942, -0.0225251373, 0.00079802121, -0.0164722912, -0.00393411331, -0.0228054244, -0.0327757411, 0.0116360215, 0.0293245763, -0.000173635388, -0.0147702498, -0.0430392139, -0.00542739127, -0.0040741004, 0.0146745769, 0.0147381332, -0.0977479592, 0.0104266861, 0.025875479, -0.025322644, 0.0371392332, -0.0331046171, -0.0090432195, -0.055602733, 0.0194563549, -0.011229408, 0.00387487235, -0.00410920149, -0.0441116504, 0.0215685312, -0.0356065184, 0.0474072658, 0.0268849507, 0.0174326673, 0.000850339, -0.00756780943, 0.0093962932, 0.00459239725, -0.00786834117, -0.00273199636, -0.0369733311, 0.0216741506, 0.0425821282, 0.0155824143, -0.0184402298, -0.0115573574, -0.00263993838, -0.0375391506, 0.0128797526, -0.0149451625, -0.00552227907, 0.00863592047, 0.00685487082, 0.00300641614, -0.0119969444, -0.0158871505, -0.00982713792, 0.00424076337, -0.0433845781, 0.0330581553, 0.0384796262, 0.0107900072, 0.0191652291, 0.0227452461, 0.0194762014, -0.0380549468, -0.00419578142, -0.0471593663, 0.0440948196, -0.00373745291, 0.0135888113, -0.0416736491, -0.000588603725, -0.00657839514, 0.00460743345, -0.00800636597, 0.0134730665, -0.0304998495, 0.0041227215, -0.0150085678, -0.00091599609, 0.0358781256, -0.0316038579, -0.0103332689, 0.0219474547, 0.0214091092, -0.0089909872, -0.0496706627, 0.0867130756, 0.0251587685, -0.00949493144, 0.0182838812, -0.0151019609, 0.0057031624, 0.0422480851, -0.0264587235, -0.033348415, 0.0231209472, -0.091548264, -0.0330854803, -0.00382405543, 0.024036048, -0.0180411972, -0.0842056274, 0.0246197972, 0.0238390081, -0.030619204, 0.022645995, 0.0321013108, 0.00249914755, -0.0521432497, 0.00809369, -0.0369680747, -0.00710959826, 0.0054932, 0.0283885486, -0.00223016599, -0.00771788415, 0.00473696506, -0.000609835843, 0.0192310177, -0.0273342282, 0.00289963977, 0.0142250778, -0.017589543, -0.00694994628, 0.0240005348, -0.00185883092, 0.00167460262, -0.0387458391, -0.0210148394, -0.0022174241, -0.00466975663, 0.00216659205, -0.00267989561, 0.0116670122, -0.021881301, 0.00164758367, 0.0134219192, 0.0229443796, 0.00240230816, -0.00888840761, -0.0261704531, 0.0180281624, -0.0167659651, -0.0124514289, -0.0132807698, 0.012377481, 0.0145821031, 0.0077399658, 0.00489979051, 0.00414752634, -0.0379822627, -0.017956771, 0.0249845386, 0.0239713527, -0.0137885297, 0.0142708, 0.0294408053, 0.0153730772, 0.0238320306, -0.0286259241, 0.0258241724, -0.0164935309, -0.0113696642, -0.0355831981, -0.00310683064, -0.00305108284, -0.0111544598, -0.0356698, -9.41893668e-05, -0.0628523603, 0.0208899044, -0.00574388634, -0.0179711, -0.00687919091, -0.0396824777, 0.0156399813, -0.0182642918, 0.0104795927, 0.0103851287, -0.0472117886, -0.0340251885, -0.0650652274, 0.023384504, 0.0135749839]\",\n          \"[-0.0140389074, 0.0403942764, -0.0237945989, 0.0511474274, -0.0276432578, -0.0112933554, -0.000408082473, -0.0148139698, 0.020113036, 0.00967584923, -0.0179831777, -0.00492901774, -0.00264645158, 0.135314509, -0.0188564118, 0.00658838823, 0.0170986336, 0.0236358251, 0.00790596, 0.00482735084, 0.0517107733, 0.0297333766, 0.0120380493, -0.016631281, -0.0154402116, -0.0193455853, -0.0327977426, -0.00869154185, -0.00745397, 0.0375977345, 0.0259322058, 0.031952925, -0.0382063612, 0.0185259841, -0.0396587774, 0.00693886867, 0.0164376423, 0.00461335201, 0.0234490726, -0.017639827, 0.0211617425, -0.0245844088, -0.000154686175, -0.042539224, -0.0127359442, -0.00217101118, -0.00195360603, 0.00557333091, 0.0169950612, -0.00716177281, -0.0144197196, -0.00212611887, 0.000894234108, 0.0102155935, 0.0560630523, 0.00256405096, 0.0188486483, -0.0245315786, -0.00325484062, -0.0250446349, -0.00925806724, 0.0334626064, -0.0174896568, 0.0136220129, -0.016478559, -0.00684502674, -0.0132367918, 0.0207046699, -0.000325800793, 0.0297577623, -0.028495444, -0.0567937344, 0.00229163608, -0.0233247839, -0.0384660698, 0.00663616369, -0.00693652965, -0.013449383, -0.00491192332, 0.00971715059, -0.013248519, 0.0622428805, -0.0104557481, -0.00144261343, -0.0060035, -0.0153884469, -0.0139146838, -0.0453485325, 0.00816311315, 0.015682498, 0.046910055, 0.00941017456, -0.0107370038, -0.173008129, -0.0174528789, -0.028067423, -0.0128394328, 0.00577282393, 0.0185274445, -0.0518904738, 0.0175643899, 0.0369749, 0.0113026537, 0.000463231845, -0.0276533943, -0.0210377406, 0.0197836868, -0.031557437, -0.00835733674, 0.0625586733, -0.0341350548, -0.0268410351, 0.00899347, -0.0201775711, 0.0216281433, -0.0202634055, -0.00934367441, 0.000408957334, 0.00287301, -0.00112287677, 0.00423098262, 0.0226592533, -0.0378059559, 0.000498920854, -0.0235804897, -0.0981091708, -0.0144168437, 0.00842329487, 0.0311037302, -0.014175348, -0.0195255373, 0.0223498363, 0.0124785649, 0.0191328917, -0.0170980264, -0.0331261903, 0.0307399146, 0.00950164, 0.0384947211, 0.00252303155, -0.000644051062, -0.028227143, -0.00314016105, -0.0312234685, 0.0364934094, 0.0471050739, 0.0119214319, 0.0103014149, 0.0300698653, 0.0203350857, 0.0168324299, 0.0349612869, 0.0593139678, -0.0101099089, 0.00463694707, 0.0526940078, 0.0244565159, 0.011942381, 0.00590336462, -0.00241016271, -0.053282205, -0.040053308, 0.0176215488, 0.0365235619, 0.0138712302, -0.00767470524, -0.0249260329, -0.00139997096, 0.000920206949, 0.0125468746, 0.0358880199, -0.00202027056, 0.0265927929, 0.0277558789, 0.0222643614, -0.026936844, -0.00173875422, 0.0260362625, -0.00857181288, -0.0431996733, -0.0047463174, 0.0107789803, 0.0246904865, -0.0335909501, -0.0070681558, -0.00515900413, 0.0022865152, -0.0242131967, 0.0104526831, 0.0437001958, 0.0194768477, 0.00254427036, -0.0185518339, -0.0305375066, -0.020298589, -0.0382712185, 0.0371559449, 0.0244488753, -0.000417075789, -0.0151906423, -0.0102857165, 0.0283516329, -0.0161641277, 0.00204643677, -0.00779545493, -0.0160340331, -0.00975900237, 0.0123449611, 0.00625269441, 0.000471520674, -0.0326978527, -0.00323783769, 0.0310667511, 0.0232000742, -0.0330547, 0.000791154394, 0.000751177, -0.00375369587, -0.0207674261, 0.0232594926, 0.0309416112, 0.0073467833, -0.00442758529, 0.0170794558, 0.0142910909, 0.00234045414, 0.0156312734, 0.0182020329, -0.0422232933, -0.0197018422, -0.0434460565, -0.0232643876, -0.00483039906, 0.0146229854, -0.027475128, -0.00970563572, 0.0110089052, 0.028842885, -0.0252560806, -0.025702443, 0.0209769476, -0.0222809669, 0.023540115, 0.012836487, 0.0222780388, -0.025157053, 0.0312824249, 0.0013546556, -0.0157274809, -0.00864934269, 0.027634047, -0.00284998701, 0.00283243088, -0.00898445398, -0.0476008, -0.0513248853, -0.00931801461, -0.03635047, -0.0264815968, -0.000730241125, 0.0216094144, 0.00487383083, 0.0192376468, -0.031086484, 0.0299669337, -0.00592609309, -0.00102667697, -0.0094445236, -0.0138932848, 0.0355608426, -0.0285165887, -0.00231256033, 0.0191374533, -0.0131807523, 0.00426470628, 0.00712150801, -0.00488239, 0.00601265766, -0.0103345262, -0.0559361279, 0.0312455092, -0.00714682043, 0.000315149053, 0.0170349181, 0.00161585992, 0.0127315102, -0.105601087, 0.0338399783, -0.0292462222, 0.0381753892, -0.0132455491, -0.00864634477, -0.0289030578, 0.035589464, 0.0221096464, 0.0197451133, -0.0109372092, -0.00050276937, -0.0185311735, -0.030429218, -0.0252401605, -0.00853779074, -0.0203614216, 0.0278213322, -0.0181437135, -0.0218035541, -0.000528035, 0.0224194638, 0.0276703537, -0.00213184231, 0.00711185113, 0.0158618614, -0.0147071332, 0.0208415817, 0.0353765525, -0.0115119386, -0.0191754065, -0.0184892826, 0.0290193427, 0.0112807602, -0.00448648119, 0.0134570552, 0.0176482499, -0.00438446878, 0.00268216361, -0.0023514051, 0.0269243289, -0.0120258862, 0.034854494, 0.0184325837, -0.0313751958, 0.00126354792, -0.0376020074, 0.0168091636, 0.0177418254, 0.0158179663, 0.014792664, -0.0213488936, 0.000721880642, 0.0220651682, -0.0374599025, 0.0130712697, -0.00142612122, 0.0256245304, -0.0329093, 0.0157687254, -0.00144110504, -0.00980004389, -0.0275460314, 0.00994414, 0.0253354367, 0.0259130038, -0.00662955176, 0.0208087, -0.0333164558, 0.0267638769, 0.00984124281, -0.0162504204, 0.00751850149, -0.00441191299, -0.028706884, -0.0357729979, 0.0324398316, -0.020099109, 0.00345627894, 0.0207680445, 0.0184902754, 0.00630358839, -0.00958088413, -0.00196682988, -0.0175098367, 0.0272214692, -0.0855352655, -0.0108017689, -0.0139214648, -0.024108842, 0.0069803521, -0.000316065503, 0.00557206478, -0.0407353528, -0.0782901049, -0.0201987661, 0.0177222434, -0.0156547334, 0.00466298684, -0.000764753786, -0.0275154822, 0.0186380204, -0.0200999659, 0.00676053483, -0.0155721195, -0.0132690175, 0.0109299086, -0.0224750675, -0.026619738, -0.0057858061, -0.0147301871, 0.0423709936, -0.00869947392, -0.0277331416, -0.0205719043, 0.0430352762, -0.010235142, 0.0224853512, 0.0229838695, -0.0167562533, -0.019225603, -0.00718241092, 0.0113606891, 0.0293489639, -0.0235977732, 0.0106689595, -0.00055526424, 0.0176013149, 0.0215177182, 0.0308355819, -0.0067435028, -0.00485683372, -0.013613292, -0.0147265103, -0.035164576, 0.0588448867, -0.0129478397, -0.0379361622, 0.00571199, 0.0273960382, 0.0428941213, -0.00512439944, -0.0246887468, 0.00621502753, 0.0591137335, -0.0101724342, -0.00185055716, 0.0218467452, 0.0337857269, 0.00483084, 0.0240645353, -0.0187940951, -0.00357362977, -0.0194864031, -0.0346338674, -0.0163211748, -0.0144357737, -0.00353900576, -0.020708587, -0.015371521, -0.0183228143, -0.000873874757, 0.0309358183, -0.0243796911, -0.00841801334, 0.0163583402, 0.0188917369, -0.0154672628, -0.036933545, 0.0254552569, 0.000805332558, -0.029440118, -0.0177207142, -0.0363609791, -0.000308085873, -0.003906528, -0.0269531831, 0.0233857892, -0.0193449613, 0.00229758536, 0.00807059836, 0.0115354946, 0.0236923397, 0.0411083139, -0.0439904407, -0.00722811744, 0.0358814411, -0.036762476, 0.0423871912, 0.00624603173, 0.0118462984, -0.0216542222, -0.0171175338, -0.00968717877, 0.00114079867, 0.0133398054, -0.00228036544, 0.029525375, 0.00343361311, 0.0158214197, -0.0164282825, -0.0185708273, -0.00450241938, -0.0217848513, 0.0149622671, -0.030236477, 0.0522200912, -0.00381894945, -0.0264413785, -0.00323583419, 0.0201940052, 0.000428931613, -0.0228388738, 0.011438584, 0.031319771, -0.00977426674, 0.085383594, -0.0104843751, 0.0133935045, 0.0205510594, 0.0223194323, -0.0181454774, -0.0452832244, -0.00118347351, -0.00144722825, -0.0145087177, -0.00307419267, -0.0282110739, -0.0114187598, -0.0239199717, -0.00046364931, -0.00575413369, -0.00982681, 0.00150717271, 0.0309184901, 0.026735628, -0.00998604484, -0.00226091244, -0.00193907972, 0.00488275243, 0.00888051651, 0.0320777893, 0.00556018483, 0.0265590325, 0.00740001816, -0.0322563201, -0.0619484074, -0.00340787461, -0.0160056781, 0.0110731376, -0.0161240529, 0.0170400944, 0.0152704697, -0.00333659677, 0.0210319422, 0.0173983183, -0.0256873928, -0.00693256827, 0.0281135421, -0.0358970091, 0.00452485494, -0.012729425, -0.0348467715, -0.01085913, -0.00131307042, -0.0286584198, 0.0299627706, -0.00071589381, 0.0111075435, 0.0202582907, 0.00678521, 0.0212844089, 0.00327404868, -0.0253617261, -0.0115387654, 0.0145923067, -0.00322321779, -0.0488851, -0.0134418709, -0.0233909599, 0.00897319894, 0.0106517123, -0.0407097675, -0.0107042994, -0.025503315, 0.00637710607, -0.0113623654, 0.0261354987, 0.0312441792, -0.0347128846, -0.012868044, 0.0326844677, -0.0338968076, -0.0309639573, -0.00391129777, 0.017058095, -0.00956249796, 0.0276324544, 0.000292327255, -0.0310745072, 0.000803183415, -0.0184424687, 0.0112326751, -0.0253740679, 0.00223353156, -0.0224851817, -0.0027939619, -0.00504360208, 0.000985311344, 0.0525953956, -0.0138097787, 0.00595993036, -0.00418531336, 0.00152403931, -0.0105946418, -0.00574474223, -0.000213166059, 0.0253048707, 0.0254731, 0.0373067781, -0.00734084379, -0.0312182289, 0.00402454147, -0.0398059338, -0.00459254, -0.0206613485, 0.00468772, -0.00562491408, 0.00153930951, 0.0133349858, 0.0270747393, 0.0209467188, 0.0130421836, -0.0255498942, -0.00688529247, -0.00647654058, -0.0565963909, 0.00991497934, -0.00834469125, 0.0186651275, -0.0222427156, 0.0322965197, -0.00506842788, 0.00798745453, 0.0283782464, -0.0140209394, 0.0092530055, 0.0294082165, -0.00958414562, -0.0731226355, -0.0604099371, -0.050215818, 0.0375453569, 0.0159100648, -0.0127867516, 0.0137553299, -0.0363482572, 0.0208344962, -0.0246450678, -0.024803251, -0.00800315384, -0.0184805244, -0.00764750503, 0.0184373781, -0.00565574318, -0.0491272546, -0.0300881378, -0.0254446063, 0.00397274317, -0.00906241406, 0.0259311292, 0.0630852953, -0.0194246545, -0.015331056, -0.149518788, 0.0124063268, -0.0366037153, 0.00546566257, -0.00666016852, 0.00618701754, 0.0225630719, -0.0057678842, 0.0334381461, -0.0367663689, 0.0019197443, 0.0106291128, -0.245430872, 0.017108934, -0.0301463921, -0.0268886257, -0.00197667326, 0.010750046, -0.0256758053, -0.0320179388, -0.000169164327, -0.0513470508, -0.0329496339, 0.00182704371, -0.00385017181, 0.00482105976, 0.0117020691, 0.0295241121, 0.0146740172, 0.0216561016, -0.0277238358, 0.0389758907, 0.0300791468, -0.0168541223, -0.00719260285, -0.0489789471, 0.00401046919, -0.033277005, 0.0270588305, 0.0115905134, 0.00224807649, -0.0230793431, -0.00252334285, -0.0116864741, -0.0386916809, 0.00844250713, 0.00747623388, 0.0212901197, -0.0161196254, -0.0606389977, -0.00826007407, 0.016554229, 0.0264318138, 0.00143645692, 0.00879776105, -0.045041319, -0.00404093089, 0.000627606409, 0.0291732922, -0.0250727925, -0.0121470485, 0.00600607647, 0.00407393929, -0.0174319334, -0.00319011137, -0.0301340111, 0.0160041582, 0.0028732568, -0.021779079, -0.0485642441, 0.0109781465, 0.0137577225, 0.00189376075, 0.0137010356, 0.0343796, -0.0213588048, 0.00921333, -0.0471615493, -0.0220657568, -0.0063117533, -0.00311882072, -0.00453575747, 0.00235377578, -0.0257514287, 0.0100568794, 0.00375346467, 0.00337035139, -0.00898002181, -0.167901292, 0.0222176425, 0.0114064422, 0.00695627229, -0.0442763306, -0.0247060098, -0.0297502186, -0.0250150636, 0.028566381, -0.00110559503, 0.0236344412, -0.00714829052, 0.00367295672, -0.00827280525, 0.0157378558, -0.0260845907, 0.00208204659, -0.0137554668, 0.00198047608, 0.00163227774, -0.00199279818, 0.0349563472, 0.0133601548, 0.0186928771, 0.0134365279, -0.0170616321, -0.0268683936, -0.0263199527, 0.033396367, -0.0034991703, -0.0530342869, -0.000769049569, -0.0135334888, 0.0432721563, 0.0122992387, 0.0130011039, -0.0286077261, 0.0013795452, 0.0302720722, 0.0185776465, -0.0140927685, -0.0118977474, -0.0357386172, -0.00327606313, -0.0339602232, 0.00744667044, -0.0121725015, -0.0347852297, -0.0356016792, 0.019744033, -0.0257184822, -0.0167608615, 0.0331727788, 0.0259804036, -0.000604618865, 0.0237205271, 0.0187375024, -0.0179927628, 0.0270191077, -0.00566355791, 0.0142212352, -0.00198348891, -0.0347350426, 0.00132921454, -0.0124241719, -0.00313405157, 0.0131958667, -0.0224052388, -0.0128888581, -0.0554171167, -0.00500807352, -0.037675634, 0.000821594265, -0.048145324, 0.105930068, -0.00646128412, -0.00565299857, -0.00158658845, 0.00892613269, 0.0133890714, -0.0094174, 0.00924534723, -0.0138345836, 0.007101072, 0.0323606, -0.0453624465, 0.0123590417, -0.00988353323, 0.0201269109, 0.0368391164, -0.0235022847, 0.00964933634, -0.00702049304, -0.0173457507, -0.013242119, 0.0245508105, 0.0130560417, -0.0480338559, -0.0236409195, 0.0377658494, -0.0281912275, 0.0146465292, -0.0166940242, -0.0170187, 0.011997018, -0.01668166, 0.0327809677, -0.00295426324, 0.00832611788, 0.000884802372, -0.0379054584, 0.0130437473, 0.00400974881, -0.0113599375, 0.0088457549, -0.0323046073, -0.00935885403, 0.0321194232, -0.0166980792, -0.0143170338, 0.0205676015, 0.0440554507, -0.0198239535, -0.0102144117, -0.0074057891, -0.00893433113, -0.0241397321, -0.00835901871, 0.00672109704, 0.014001579, 0.0122226132, 0.0356303677, 0.0429492518, 0.00299616577, -0.00568197947, 0.00962925516, -0.0150250392, -0.0424613766, 0.00246455404, -0.0377269164, 0.0467803106, -0.00115251716, 0.035275016, 0.0220717713, -0.00496733375, 0.0150206583, 0.0155917164, -0.0215173289, 0.0314382613, -0.0179296248, -0.0144835124, -0.00891008414, -0.0192344133, 0.0388216712, -0.0385105461, -0.0427882485, 0.0019993959, -0.0321557075, 0.00774713885, -0.0396528058, -0.0021279084, -0.00102981552, -0.0361258499, -0.0459467396, -0.00876521692, -0.0240888875, 0.0218314324, -0.048604507, 0.0177797675, 0.0015349, -0.0358730294, 0.0210694, 0.0345362425, 0.00827305485, -0.0163549539, -0.00060489116, -0.0246762056, 0.00601459946, 0.0210890863, -0.0607706234, 0.00337758311, -0.0192357041, -0.0353686698, -0.0409833305, 0.00961251557, 0.00152392592, -0.0305373743, -0.0654259101, -0.00207008887, 0.00954259, -0.0212286972, 0.0110262781, -0.0199664142, -0.00709496206, 0.0391835123, -0.00118603965, 0.0116766803, -0.0505109727, -0.0483737886, -0.0200018417, -0.0227538794, 0.0548387282, -0.017682042, 0.000114009323, 0.010974477, 0.0491497852, 0.003348395, 0.0310466606, 0.0318520963, 0.0307623111, -0.0204195734, 0.0246359669, 0.0104620373, -0.0408442803, 0.0143711669, -0.0403539687, -0.0334508196, -0.0147172743, 0.02563099, 0.0243786182, -0.00331127737, -0.00051477534, 0.000179382303, 0.0140629411, 0.00108216959, 0.0294853523, -0.0247085355, 0.0135272974, -0.00982158165, -0.0281530414, -0.0104049407, -0.00177537417, -0.00252530072, -0.020074293, 0.0333253518, -0.0123010604, 0.00303297653, 0.019241007, 0.00025981912, -0.000828045479, -0.0248788334, 0.0105750086, 0.0528767444, 0.0378275551, -0.00741890725, -0.0309605282, -0.0473392271, 0.011865411, 0.017141806, 0.0619584061, 0.0189597886, 0.000377746503, 0.0176260285, 0.0152997039, 0.00867189746, -0.0217828248, -0.027571721, -0.0359202288, -0.0184757393, -0.0183575619, 0.024106456, -0.0189937111, -0.0115516894, 0.00429542176, 0.0352433287, 0.0320839547, 0.0158874225, 0.0324317031, -0.00518648466, 0.00269585359, 0.0219040606, -0.00395159284, 0.0381946824, -0.0194648188, 0.00179514627, 0.0278482437, -0.0150408307, -0.0473846048, 0.0117529146, 0.0155868735, 0.00707672, -0.0595817678, 0.00784674846, 0.00259602908, 0.00975698419, -0.0114260158, -0.0205127131, 0.00459427899, 0.00918931793, -0.0102036791, -0.0126369381, -0.029918652, 0.0179347228, -0.00782619324, -0.0102282846, -0.000284570153, -0.031071987, -0.0310515352, -0.0405156501, -0.0163378678, -0.0218893159, -0.00441789208, 0.0195480194, -0.00448790565, 0.0199802183, -0.00420123106, 0.0110369, 0.0152778085, 0.00315199955, 0.000288626848, 0.00995267369, 0.0123176156, 0.0240111928, -0.00317674316, -0.040895436, 0.0235253647, -0.0377863795, 0.0076433504, 0.0383429788, 0.00400298415, -0.0669553354, 0.0279526412, -0.00813994743, 0.00385510246, 0.0122957574, -0.00855192635, -0.0431034714, -0.0129403528, 0.0266741551, -0.0111767752, 0.00925209187, -0.0113099013, 0.00268197968, -0.0165594984, 0.0178628974, -0.0275862161, -0.0248507559, -0.00922676548, 0.00782740675, -0.0297845267, 0.0097421743, -0.0211870298, -0.014538914, -0.0123266485, -0.00376362214, -0.0353468321, -0.00688619, 0.0300195366, 0.0110198166, 0.0237357244, 0.0124200387, 0.00904320739, 0.0288452916, -0.00107071933, -0.0351288207, -0.0172695536, 0.00367286569, -0.0452735722, -0.00357844075, 0.0388502292, 0.0144808386, -0.0224715117, -0.0238055401, -0.00861201901, -0.0154474759, -0.0130555611, 0.00046327911, 0.0136862993, -0.0138090989, 0.0190944746, -0.024935225, -0.0186579321, -0.0050790594, -0.0480659269, 0.0109057706, -0.0400492214, -0.0159484539, -0.0310228784, 0.0168249942, -0.0146623887, -0.0437562093, -0.00183145097, -0.0708371401, 0.0351838879, 0.00848090649, 0.00548323058, -0.00963293668, 0.00413585734, -0.0202692021, -0.0064907358, 0.00581652112, -0.044156123, 0.0248664971, -0.0266873278, -0.0229989011, 0.0183215141, -0.013749023, -0.0189632438, 0.0213402733, 0.0123590119, 0.0220702607, 0.0134903938, -0.00189786416, 0.00207100948, -0.0205503535, 0.0476314798, 0.00322472677, 0.00373373856, -0.00366157177, -0.0239099804, 0.0085861655, -0.0130827548, 0.032435853, -0.00985682, 0.031237375, 0.0413004756, 0.00233869907, -0.0154640581, 0.0434587412, 0.0629264, -0.030930033, -0.0287410934, 0.0228278544, 0.00137442537, 0.00195462885, -0.00180702214, -0.023909308, 0.0103522167, 0.018667927, 0.0325366184, 0.0582989193, 0.0231408719, 0.00487498706, -0.0251747109, -0.0236209631, 0.0213593878, 0.00130244542, -0.0110842614, -0.0334803239, 0.0326011, 0.0145128639, 0.0159596093, -0.00689007202, 0.0122360373, 0.0241395496, -0.00768633373, -0.00116564555, -0.0102252066, 0.0114558768, -0.00189881609, 0.0214209929, -0.00688856281, 0.0304136928, -0.0175121613, 0.0372038335, -0.0165029, 0.00766119221, 0.0160043128, -0.0486906506, 0.0008111223, -0.00654578, -0.0332384482, 0.00574855041, 0.00354597624, 0.027373502, -0.0191951878, -0.046642486, 0.055608, -0.0316752, 0.00991451833, 0.0127407648, -0.0126353409, 0.0707970262, -0.0366025828, 0.0208441745, 0.0435444191, -6.97011346e-05, 0.0135212457, -0.0156577565, 0.00800625794, -0.0128515922, 0.0306724384, -0.018127244, -0.00797725, 0.00248827, -0.0297268759, -0.0276554562, -0.00120214443, 0.0274766274, -0.00986242853, -0.0858290717, -0.00356566464, 0.0204151627, 0.00976846926, 0.0199091453, -0.0140210073, -0.0230588689, -0.0257390551, 0.00668872055, 0.014246854, -0.0175120868, -0.00314361928, -0.020129364, 0.0277256202, 0.030847799, 0.00935723539, 0.0189678315, 0.0313628092, 0.0205608644, -0.0206377674, 0.0111812558, 0.0111047896, -0.0118383802, 0.0182265677, -0.00349141122, 0.00839831866, 0.0231935438, -0.0163427163, -0.015138424, 9.82717211e-06, -0.0099341264, -0.0141870743, 0.00649571093, -0.00579444366, 0.0119461706, 0.00193972141, -0.0487411916, -0.0148611302, -0.00628222758, -0.0274804849, 0.0263444725, 0.00136874861, 0.0170246828, 0.0160532203, 0.0318877473, 0.0128143141, 0.0131598311, 0.015121216, 0.0282906946, 0.00632810406, 0.00668468652, -0.00920612924, 0.0107514244, -0.000231952203, 0.00352314673, -0.0378061682, 0.0088212369, -0.0143314218, 0.0254771989, -0.00798194297, 0.0112364553, -0.0248589609, 0.0353907049, -0.00555027463, -0.00145241979, -0.0227316972, 0.0038178016, -0.021844862, 0.0202546529, 0.00715675764, 0.00834685285, 0.0137018263, 0.0329158269, 0.023723688, 0.0254733, 0.0307662226, -0.0670654625, 0.0212728288, -0.0186357293, 0.00283536874, -0.0094830459, -0.00315540913, -0.0962905139, -0.0313044414, -0.0273124538, 0.0287567694, 0.00657384703, -0.109024152, 0.00506242365, 0.00109552988, -0.00964293815, -0.0180362985, -0.00489960797, -0.0368959904, -0.00367253227, -0.00890895631, -0.0176961869, -0.00890234765, -0.025198333, 0.00344986026, -0.0111362487, -0.0213180799, 0.0171353668, -0.0403107144, 0.00766992895, -0.0190041475, 0.0146692619, 0.00667449506, -0.00974637177, 0.0317311771, -0.00583630893, -0.00204218389, -0.0107336855, -0.0498359054, -0.0322524309, -0.0225043483, -0.0139987599, 0.0251304302, 0.0253574755, -0.0132054118, -0.0125372522, -0.00609057164, 0.00906619709, -0.0249868017, -0.0262451712, -0.00412003044, -0.0459053777, 0.0461200736, -0.024626106, 0.044225879, 0.0182681978, 0.0200661533, 0.0345330685, -0.00560960686, 0.0107222721, -0.00779751502, -0.0417358652, 0.0248436872, 0.0280992668, -0.0106622092, 0.00649676612, 0.00212892378, 0.0111288233, -0.0454863869, 0.0446379036, 0.00431649294, 0.0310137309, 0.0138121033, -0.0354890078, -0.00670016697, -0.000716648879, 0.00159310957, 0.0122756427, -0.0413933434, -0.00620002626, -0.0353581347, 0.0364912599, 0.00256439485, -0.003356145, -0.0716945156, -0.0366938636, 0.00413263263, -0.0425121412, 0.0625958815, -0.00614994951, 0.00285475841, -0.0354046077, -0.0636825562, 0.0263821799, 0.0293778833]\",\n          \"[-0.00351719698, 0.0130637446, -0.00540226884, 0.0217578709, -0.00069176004, -0.00953702163, 0.0264446475, 0.000800430658, -0.00271582487, 0.0281423219, 0.0146068987, 0.000423132849, -0.039728485, 0.101025067, 0.0125904307, -0.0012989348, -0.0202288106, 0.0122355986, 0.0394775458, 0.00357652246, 0.0177537426, -0.00559006678, 0.00183871679, 0.0442144796, -0.00983579457, 0.0034750395, -0.00933002587, -0.00571064837, -0.0307581425, 0.0305777974, 0.0266132671, 0.0370001718, -0.0111490618, -0.0245669764, -0.0190309919, 0.0140390927, -0.00951965898, -0.0132849431, 0.0215001833, 0.00403837, -0.0140290195, -0.00554111414, -0.00128706184, -0.0306113586, 0.0223739799, 0.00302233, -0.00795114785, 0.0452718325, -0.0122774839, 0.00997088198, -0.0197707675, -0.0106494529, -0.0195402391, -0.0444501974, 0.0634688, -0.00923211221, -0.015204641, -0.0389423408, 0.0153305987, -0.0138634266, 0.00231054262, 0.00323264534, -0.0257872567, 0.00806989521, -0.0389240645, 0.0088371681, 0.022140272, 0.00244524982, -0.0397407487, 0.00661288342, 0.00912923273, -0.0165804029, 0.016526835, -0.0016531779, -0.0177456159, 0.0308494344, -0.00928529724, -0.01456594, -0.0282723252, 0.0304111037, 0.00341902045, 0.0497817211, -0.031043496, -0.031977687, -0.0137975216, 0.0186319984, 0.0419833362, -0.0183082689, 0.0161013585, -0.00349561241, 0.0377076529, 0.013179319, -0.0554180183, -0.145755872, -0.0487651974, -0.0488926768, -0.00366456108, -0.00882402807, -0.0150678242, -0.0740714595, 0.0252171531, 0.00936833862, 0.0198617019, -0.0314540379, -0.00232050987, -0.0497212261, 0.0102802943, -0.022353448, -0.0200501196, 0.0160738192, -0.0517629422, -0.0166953355, -0.030421406, -0.00516437599, 0.0360392, -0.00288406713, -0.0278530028, 0.0528481267, -0.00320984167, -0.0265067909, -0.00494337315, 0.0430551395, -0.0243876837, -0.0434171744, -0.0119485343, -0.0736673623, -0.0379552767, -0.00155806018, -0.00170753174, 0.00273749582, 0.00787265506, 0.0469545946, 0.0274509508, -0.0179489981, -0.0247273464, 0.0140895396, -0.0249899216, 0.00374722062, -0.0091425553, -0.00898671243, -0.023757467, -0.0369154103, -0.0255488, -0.0307317507, 0.0300864391, 0.00972709619, 0.025623478, -0.029317623, 0.0212111901, 0.0387625657, -0.00237577315, -0.0164136849, 0.0371262729, 0.0370449759, -0.0178427752, 0.000687958382, -0.0287339482, 0.00127052655, -0.0109954616, -0.0195487365, -0.0594668463, -0.0185036194, -0.0139861349, 0.00839840807, -0.0317572691, 0.0137611339, 0.0201202966, 0.00718480535, 0.000455973524, 0.0118091395, 0.0459219143, -0.0276736766, 0.00551555259, 0.00916455872, 0.0281340461, 0.00584507128, 0.0266533215, 0.0493937284, 0.00144588598, -0.00282960269, -0.035671737, 0.0435748398, 0.0163693447, -0.0166440904, -0.00806335919, 0.00986179, -0.000506868644, -0.0461046919, 0.0209664125, 0.00498036249, 0.00382888014, 0.000950754038, -0.0179900136, -0.0107934773, 0.0166125633, 0.0199804828, -0.0100541031, -0.0157384127, 0.0225695092, 0.0193651877, -0.0341831297, -0.0299269892, -0.0207831692, -0.00321679469, 0.0103470543, 0.00901199877, 0.0248748939, 0.0138097703, 0.0241863653, -0.0122335488, -0.000792850449, -0.0333700627, 0.0125076752, 0.0369385593, -0.00349002331, 0.0110733742, -0.043957, 0.0150805535, -0.00684430357, -0.0251597874, -0.00658277841, 0.0246360451, 0.0227705091, -0.00960895326, -0.000219307563, 0.0127769103, 0.00250310521, 0.013801666, -0.0363440327, -0.0109087639, -0.0276113618, -0.0205409769, 0.0171923544, 0.00730968639, 0.00112416537, 0.0248873923, 0.0179592147, 0.00855157524, -0.00189169112, -0.0359324291, 0.00866849, -0.0223371759, 0.00408502668, -0.00627656095, 0.0350374617, 0.0124041811, 0.00581271714, 0.00747440523, -0.0627021417, -0.0198555458, -0.00558630098, -0.0127886254, -0.0257029179, 0.00810910761, 0.0123845087, -0.0113320472, -0.00533627952, 0.00790052, -0.0115359444, 0.00363167631, 0.035419371, -0.0141393151, 0.04483876, -0.00963894464, -0.00939083751, -0.000500802125, -0.0127372993, 0.00639914116, 0.00627784431, -0.008404213, -0.0125027904, 0.0148689765, 0.024725344, -0.0495635234, -0.0234118551, 0.00340219704, -0.00203363481, -0.00219856063, -0.0158718918, -0.00166168495, -0.0320887379, -0.0035126938, -0.00822487567, -0.000874539197, 0.00625721412, -0.0122792954, -0.147241414, 0.0166255329, -0.0431529209, -0.001519816, 0.0055934228, 0.00254858402, -0.0271265674, 0.0122198928, -0.0150522925, 0.00555987796, -0.00139366882, -0.066226691, 8.71596931e-05, 0.0084681958, 0.00688832579, 0.0197437834, -0.0298204366, -0.00266177231, -0.0408654921, 0.00543674547, -0.00436308933, -0.0119458605, 0.0408149175, -0.0193451941, -0.0290289856, -0.000583496294, -0.00472329976, 0.0403706953, 0.00577426702, 0.0091193039, -0.0297379438, 0.00317069562, -0.00791560393, 0.0386275575, -0.0330599621, -0.00633736048, 0.019898152, 0.0172611661, 0.0013956069, -0.0194582306, 0.0202943254, -0.00330501329, 0.0141347954, 0.0264071468, -0.00439880462, -0.0100955218, -0.0505824648, -0.0152082182, -0.00375388609, -0.0155570973, 0.00888284761, 0.00398769369, -0.0439868607, 0.0179956444, -0.0300035812, 0.0408548228, 0.014876524, -0.000630162365, -0.0384529643, 0.0137374932, 0.019077329, -0.0255069528, -0.013308065, 0.00805678871, 0.00177588011, -0.00888576452, -0.0461881086, 0.0152371712, -0.0112122418, -0.00772336265, -0.0169672221, -0.0429655388, 0.00280116079, -0.0324150026, -0.0510846041, 0.0147789931, 0.024514094, 0.0104815569, -0.015936872, -0.00718059856, 0.0303775836, -0.00686511025, -0.00659858854, 0.0286375917, -0.0368271507, 0.0652443692, -0.00997463055, 0.00832322892, -0.0103694657, -0.0219599642, -0.0218478311, -0.0036371965, -0.0109149255, -0.0618512332, -0.0293342303, -0.00923198741, 0.00502287271, -0.0161371697, 0.0269469414, -0.0110895, -0.0232414026, 0.0131339328, -0.0156712122, 0.0259384755, -0.0186803062, 0.0405141041, -0.0116322506, -0.0105387233, -0.0408473536, -0.00259172847, -0.0109122191, 0.0135882329, -0.0330274068, -0.015418468, -0.00221235328, 0.0040746876, 0.0254057199, -0.0309608672, -0.00135485409, 0.00588357309, 0.0125402482, -0.00117124582, -0.0749539062, -0.017577637, -0.0101291137, -0.00791649, -0.0112828473, -0.0295473039, -0.0052085137, 0.0353011973, -0.00711560203, 0.0181726683, 0.0157661531, -0.00552858599, 0.00672506588, 0.0288548619, -0.000771102379, -0.0410695225, -0.00203628186, -0.00965084694, 0.0519955605, -0.0128696086, -0.034898378, -0.00195154047, 0.00997485407, -0.0437242649, -0.000242339054, -0.0210715104, 0.0190836564, 0.0389062129, -0.0516443029, 0.0415978916, 0.0041889092, -0.0175502803, 0.0283951331, 0.0036443125, -0.00708125765, 0.00273174676, -0.0116757965, -0.00912896, 0.0108940024, -0.000550477125, 0.0212988779, -0.0404376909, -0.0353088677, -0.0254771635, 0.0458520614, -0.00439508725, -0.0121157439, 0.0217365809, -0.00162786723, -0.0387972221, -0.0313583, -0.0110451411, 0.0478998162, 0.00730168261, -0.0282840226, 0.0152836749, 0.0189781561, 0.0302133355, -0.026967654, 0.00609391322, 0.0288945567, -0.00646267086, -0.0419637188, -0.0075232177, -0.020777883, -0.0604115538, 0.026412081, 0.0370180644, -0.00462452322, 0.00236816052, 0.0583750047, -0.00877200812, -0.0215277858, 0.0268465653, 0.00445922464, 0.000336432, -0.0125923054, -0.0420624688, 0.00893676095, 0.00167844759, -0.0128879445, -0.0202031322, 0.0179510377, -0.0230679456, 0.0129289553, -0.0187100619, -0.0238507986, -0.0196222365, -0.0158291496, 0.0178080127, 0.010427542, 0.0160833355, 0.0259319749, -0.018468881, 0.0149917966, 0.00442374358, 0.0119121606, 0.044216089, 0.0267626457, -0.00106165058, -0.0470012352, 0.0508282036, 0.0437899306, -0.0466744117, -0.01260754, -0.00494434964, 0.00920411758, -0.0135570541, 0.0110979825, -0.0192507654, 0.0212754775, 0.00700348942, 0.0152792269, 0.0149051519, -0.0197755434, 0.0164356343, 0.0148155317, 0.0232835133, -0.00304121501, 0.00995787047, -0.0241165292, 0.0446861424, 0.0434126258, -0.00626149261, -0.0108717438, 0.0137131028, 0.0404210687, 0.0125728529, -0.0861413553, -0.0139677403, -0.0099164648, 0.0281201303, 0.0359382, 0.010851115, -5.71529563e-05, -0.0108926361, -0.00994349178, 0.0231938418, -0.0305537805, -0.00996922702, 0.00325741596, 0.0262604486, 0.00311897602, -0.0335640796, 0.0304859784, 0.053474661, -0.00143207831, -0.00283954525, -0.0352008939, -0.0129406499, -0.032254979, -0.0351259224, -0.00422689598, -0.0232135579, -0.0349581316, -0.0138954604, -0.00728361215, -0.0171115659, 0.0219235681, -0.0357175358, -0.0172780193, -0.0127992835, -0.0231152847, 0.0249172077, -0.0140917879, 0.0208167806, 0.00639909878, -0.032048963, 0.00431203609, -0.0044318568, -0.0193513855, -0.00256479229, 0.0293142796, 0.0151789645, -0.0186365154, -0.0244454835, -0.0107247038, -0.000755130954, -0.00682020793, -0.00224802317, 0.00399985025, -0.014408947, -0.0284462553, -0.0257791914, -0.00834393594, 0.00962216593, -0.00699583627, 0.018417228, -0.00350273354, 0.0166677926, -0.0294431522, 0.0335604884, -0.00855884701, -0.00944497436, -0.00761392945, 0.0239686742, 0.0127114039, 0.0230198223, -0.00495951902, -0.0498723388, 0.0370584317, -0.0492004789, 0.0207274407, -0.00934448, 0.00319242012, 0.00302017876, 0.0484413281, -0.0175489243, 0.0283159241, 0.0104849143, -0.00943998434, -0.0250527821, -0.0164904743, -0.00624983944, -0.018183969, -0.0140778469, -0.00818733685, 0.0186364166, 0.00549463928, 0.0458835363, -0.0153250499, -0.00128902961, 0.00806481764, -0.0185703374, 0.0328754857, -0.00364013645, -0.0341380462, -0.0475318171, -0.0484805517, -0.0341784246, 0.0380628332, -0.0158455223, 0.00923733786, 0.0542506874, -0.0604358129, 0.0177108441, -0.00569602, 0.0136598926, -0.0255302452, 0.0124279857, -0.00560901174, -0.0171576813, 0.000379321689, -0.0358346403, -0.010088292, 0.00304132467, -0.00615763571, -0.0370521881, 0.0154672749, 0.00823802873, 0.0159894247, -0.0124855088, -0.153613806, -0.0414935462, -0.0343649611, -0.0392776765, -0.0263951309, 0.0021662775, 0.0224263053, -0.00938782934, 0.0211137589, -0.00919379, 0.00793176, 0.0264743827, -0.177304924, -0.00785174314, -0.0513962, -0.0167311318, -0.031596344, 0.0158520564, 0.0153300995, -0.024840191, -0.0189020056, 0.0097118346, -0.0143653378, 0.00213108934, 0.0132234683, 0.0247715022, 0.0260345526, 0.0396524407, -0.0209902935, 0.0248488169, -0.0337925442, -0.0325014479, 0.0018670077, -0.000758902461, 0.01362288, -0.0428987369, -0.0169946235, -0.0407490805, 0.00340178492, -0.00419759843, -0.00965984538, -0.0121734357, -0.0379214548, 0.0114627266, 0.0105209108, 0.0089998031, -0.0216591377, -0.00319523457, 0.00341247697, -0.0449750684, -0.0222848374, 0.00272813463, 0.0306004975, 0.00563142402, 0.014808747, 0.0154677471, 0.0129446536, -0.0203198809, 0.0261988025, -0.0625354797, -0.0111388061, 0.0219300799, -0.0554839298, -0.00232288055, -0.00907800905, -0.023193894, -0.00638266886, 0.00394683331, -0.00816537533, -0.0176301263, -0.0240620729, 0.0181459133, 0.0179606788, 0.0414880961, -0.0125247017, -0.0351999924, -0.022586273, -0.0220020134, -0.0319261104, -0.036072053, -0.0153833423, 0.0219052732, 0.0203414671, -0.0167806894, 0.0188612156, -0.0029435053, 0.0294147618, -0.00461620837, -0.119161136, 0.030842958, 0.0097904643, 0.00832904689, -0.0211413056, -0.0183975454, -0.0256180596, -0.0536805838, 0.020556001, -0.0523332134, -0.0046443129, -0.0373663306, -0.0261001941, 0.021529492, -0.0157666504, 0.0217339974, -0.0267735235, 0.0288682338, 0.0396126471, 0.000989891705, -0.0218973607, 0.0154428007, -0.0436604656, 0.0331672728, 0.00939189643, -0.0116867125, 0.0301701352, -0.0309551582, 0.00540431123, -0.0105287498, -0.0520897508, 0.00293443096, -0.0105761522, 0.025970336, 0.0338321328, 0.0108465711, -0.0157018434, 0.0133590121, 0.0367561467, 0.0255007986, 0.00895829313, 0.0155533217, -0.0463388227, 0.0132273566, 0.0208388, -0.0103648258, 0.0169400889, -0.0604376979, 0.0206621159, -0.0102095595, -0.013174626, -0.0246315077, 0.0100337723, 0.00252739224, 0.0557676516, -0.00132287608, 0.00129128213, -0.0312477741, -0.0383273698, 0.0231582914, -0.00596194202, 0.00733945379, -0.0483472459, 0.0100186476, 0.046147041, 0.0201087017, -0.0138153471, -0.030356992, 0.0396324582, -0.0401657633, -0.0470595062, -0.00449261209, 0.00893552694, -0.0112953093, 0.035203822, 0.0174724646, -0.0143172434, -0.0232263803, -0.0307715144, -0.0286859199, -0.00550586311, -0.0348845497, 0.0236340668, 0.0277037472, 0.0464397334, -0.0275408849, 0.0313609205, -0.0326810628, 0.0239513274, 0.0285859667, 0.0233304705, 0.00813663099, -0.0251758508, -0.0522941574, 0.0237319656, 0.0144849895, -0.0186899323, 0.02048425, -0.00105186214, 0.0159548856, 0.0186763518, 0.0437935814, -0.0510641411, 0.00532514555, 0.0333779454, 0.015736226, 0.0371309817, 0.0260597859, 0.00985091366, -0.00513910595, -0.0465613157, -0.0498649105, -0.0414661504, -0.0283203702, 0.00813683774, -0.0195711628, -0.0466399156, 0.0303043295, 0.000346125307, -0.0412535667, -0.00849976484, 0.0237359274, -0.00374053419, -0.00317856227, -0.0322521217, -0.0164106954, 0.0269776899, -0.0403631181, 0.043118149, 0.00386479753, -0.012247948, 0.0507334, 0.0178589392, 0.0253373217, -0.00968795735, 0.0129131125, 0.00164562941, -0.0380272381, 0.0488944873, -0.0302922241, 0.00149157434, 0.00490956707, 0.044484105, 0.0114367725, -0.0136267077, 0.00395952584, 0.0314107947, 0.0100173736, 0.0439082757, -0.012865697, 0.000374293624, 0.00965224393, -0.0402322523, 0.0516917408, -0.0545621291, -0.0343511961, 0.0338314287, -0.0303810146, -0.0257834475, -0.0148434136, -0.0114302458, -0.0025222369, -0.0266152322, 0.00264454912, -0.016821757, -0.00960505567, 0.0373378061, -0.0412729047, -0.00128628407, -0.0220098477, -0.0166802295, 0.0374004, 0.0270459205, 0.00973566156, -0.0112715717, -0.0170838553, -0.00903800596, -0.000612463453, 0.0106246, -0.0622520261, -0.0065865377, 0.033500459, -0.00378867402, 0.00124978425, -0.0057489113, -0.0411653332, -0.0484557711, -0.0407324322, -0.0200739149, -0.000687752909, 0.0167357754, -0.00676236302, -0.0297342967, -0.00553528406, 0.0451646596, -0.0284824669, 0.0375686288, -0.0192997605, -0.0393114649, -0.0109989187, -0.0289825778, 0.00541927572, -0.0109339198, -0.0131910583, -0.00561473425, 0.0625569373, 0.00745046092, 0.0262935814, 0.0080363052, 0.0350423753, -0.00231309538, 0.0225601103, -0.0369664133, -0.0268795323, -0.0306453612, 0.0072900448, -0.0168362707, -0.0164278634, -0.00591120729, -0.0263774116, -0.0190406162, 0.0208805315, 0.0273422282, 0.0215971041, -0.0104081957, 0.00037328311, 0.0168191977, 0.0438667871, 0.0101701589, 0.0060395007, 0.00188664591, 0.00978916418, -0.0192779154, 0.0290778968, 0.015298917, -0.0175154582, 0.0466581136, -0.0224341173, -0.0177374016, 0.0405433625, 0.00815225951, 0.0421851762, 0.0174983405, 0.00054135907, -0.0245140586, 0.00941953808, 0.028454544, 0.00295138243, 0.00198097317, 0.0343010649, -0.0048847748, -0.0134157697, 0.0319819525, 0.0127601754, -0.0183681156, -0.00779650966, -0.0139294965, -0.00187136594, -0.035038203, 0.00998612773, 0.0149967847, 0.0157788433, 0.0339823775, 0.00860707927, 0.019976275, -0.0117499661, 0.002646812, 0.0336548872, -0.00762226153, 0.0373561643, 0.00919032749, 0.00311519415, 0.0408071019, 0.042184636, -0.0128124421, -0.0123513369, -0.0159979891, -0.0205136668, -0.00189544226, -0.0115843099, -0.00856650248, -0.0323439129, 0.00609711604, 0.0145690301, 0.0333883166, 0.0240186583, -0.0423804782, 0.0169217158, -0.0400669724, -0.011857111, -0.0267675053, -0.0408273637, 0.023422258, -0.0381975845, -0.0430026054, 0.0208375212, -0.0119924471, 0.00679543195, -0.0183362197, 0.000895764097, -0.00834350567, 0.0266441088, 0.004110259, -0.0396556444, 0.017196279, -0.00405854825, 0.00693109399, -0.0121026682, -0.00109629962, -0.0171021949, 0.037124496, 0.0163203534, 0.010137435, -0.0351697, -0.0117492992, 0.0135381361, -0.00534417, -0.00235866779, -0.0178590156, 0.018022012, -0.073716253, -0.0111273136, -0.0193006862, -0.00434848713, 9.57087395e-05, 0.00936414, -0.0147598572, 0.00522034476, 0.0273725688, 0.0357814878, 0.0101924902, -0.00927309413, 0.0042888904, 0.00193616946, 0.0208740793, 0.0150055829, -0.0195549168, -0.0104867378, 0.00660077296, -0.0284028538, 0.0276468229, -0.019977726, -0.0268173367, 0.00879156776, 0.0165810939, 0.032373, -0.00396920834, 0.00479240064, 0.0115438337, 0.00944330357, -0.00387627818, 0.0098845372, 0.0160350017, 0.0378277637, 0.000902148546, -0.0209163707, -0.00254068244, -0.0448782071, 0.0491991602, 0.0185090099, 0.00419650367, -0.00599348964, 0.022740962, -0.000724078272, 0.0379593633, 0.0251858011, 0.0169488, -0.0380660966, -0.00482074451, 0.0420055576, -0.00333635788, -0.00743089383, 0.00148193259, -0.0523543432, 0.012813732, -0.0413104072, 0.0183232781, -0.0340962186, 0.00132296851, -0.0233977586, -0.0139266355, -0.00344939553, -0.024017496, 0.0203745328, 0.00560403196, 0.0151409274, -0.0119563993, -0.00116032944, -0.0329884663, -0.0317153409, 0.00501129963, 0.00297044753, 0.0156840626, -0.0163094867, -0.00924772397, 0.0124902241, -0.00600793492, -0.0557917245, 0.0363498256, -0.00391552225, 0.0130844442, 0.0111370431, -0.00244639418, -0.00944487285, -0.000483577489, 0.100326568, 0.0362285413, -0.00291389343, 0.0144129554, 0.0159311611, -0.0183807891, -0.015948236, 0.0185339972, -0.0102297319, 0.0200458337, -0.00705672, 0.000448037783, 0.0355320424, 0.0188086797, 0.0323638879, -0.0133070676, -0.0313537791, 0.0215855315, -0.00880532805, -0.0263490044, -0.0179919228, 0.0212284438, -0.0120306667, 0.0331420861, -0.0305299331, 0.0382866, -0.0425724611, 0.00304987677, -0.0228092708, -0.00325644622, -0.0364326499, -0.0357544236, -0.0312473457, -0.0358827636, 0.0621585771, 0.0255718753, 0.0252390746, -0.0165050067, 0.0112022143, -0.0116186021, -0.00810185447, 0.0340270437, 0.00418205885, -0.00790453795, -0.0235790275, -0.0125872707, -0.000191950792, 0.047145728, -0.00979079306, 0.0380688384, -0.03246006, -0.0117609063, -0.00804015808, -0.0354552045, -0.0247511808, -0.00732333306, -0.0181233175, 0.012455984, 0.0287052412, 0.00165935187, 0.00827184785, -0.00948992278, 0.0239880681, 0.00702260714, 0.0285112355, 0.00366228889, -0.0228495393, 0.0328901596, -0.0426876694, -0.0373506919, 0.013096205, -0.0173496976, -0.00451121666, -0.00833979808, 0.00845556334, 0.0215012971, 0.0415182449, 0.0271026902, 0.00483480329, -0.0219461285, -0.0220346544, -0.0251517333, 0.00498285796, 0.00017535784, -0.00821495429, -0.0736475736, -0.0331086628, 0.0395918563, -0.0133046526, 0.020365959, 0.00936072506, 0.0232832152, -0.0194308609, 5.33443963e-05, -0.014527427, -0.0126702944, 0.0276481491, -0.0410869643, 0.0114067597, 0.00148380373, 0.0342821367, -0.0128110209, 0.038306, -0.00920641888, 0.0395018421, 0.00226824987, -0.0114451805, 0.00820283312, 0.0111664273, -0.0550832897, 0.0147357211, 0.0091812117, 0.0370304286, -0.0264981352, -0.0135254515, 0.026370056, -0.0204607844, -0.00820366666, 0.00654288195, 0.0176730286, 0.0234486, -0.0650976, -0.00684966147, 0.0115241148, -0.0613490418, -0.00586924329, 0.0201801471, -0.0461594276, 0.0362075642, 0.0271865949, 0.0174617693, -0.0206006709, 0.0313147455, 0.0370170847, 0.0141925747, -0.00151622621, -0.00521350792, 0.00973014068, 0.00432082172, -0.0175500028, 0.00733299134, -0.0108185131, -0.0245681703, 0.00591008645, -0.0117626674, 0.0167588815, -0.0228977, 0.0211785808, -0.0149975279, -0.00352050085, -0.03632937, -0.0124033792, -0.0739253908, 0.023334777, -0.0133843692, -0.00912383851, -0.0384293906, 0.0337666161, 0.0514593869, -0.00807273388, 0.0122819226, -0.0375075378, 0.0425514728, -0.0014478513, -0.022110289, -0.022293536, 0.0152419647, -0.0404568352, -0.0266317576, 0.0153544275, 0.00415162835, 0.00352386641, -0.113871068, -0.00381615176, 0.0244695377, -0.0257362239, 0.0207097773, 0.00550504168, -0.00222372031, -0.0243353304, 0.00603951514, -0.0615568757, 0.000410004519, -0.0120210415, 0.0125326468, -0.00209213048, -0.020319974, 0.0513555743, -0.0411278866, -0.00259858393, -0.0126277562, 0.0287174471, 0.021619685, -0.00742535, 0.0155104697, -0.01227553, 0.00563914096, 0.00156154437, -0.0451129898, -0.0114479437, -0.0240831804, 0.0051046568, 0.0155642238, 0.0203017164, 0.0400978103, -0.0120686172, 0.00952478219, -0.0228268038, -0.037396878, -0.0167536866, 0.0304730907, -0.0173384584, 0.0180117451, -0.00760880951, -0.00795265473, 0.0164344031, -0.0237640422, 0.0166485179, 0.000780349306, -1.91595554e-05, 0.00782161206, -0.0459492058, 0.00904971734, 0.0254133753, -0.00446523353, 0.0320279635, -0.00515390746, -0.00161414023, 0.02025952, 0.0293132607, -0.0146965813, 0.00475018565, 0.00802973937, -0.0125926752, -0.0213942546, -0.0126328468, 0.00204181508, 0.00944088493, -0.0657230765, 0.00465662265, -0.0316874, 0.0234662667, 0.0240985155, 0.0735150501, 0.0130389882, -0.0237258133, -0.032946568, -0.0205090661, 0.0469682962, -0.0214701649, -0.0219803806, 0.0141682327, -0.0148296459, -0.010272637, 0.0677177]\"\n        ],\n        \"semantic_type\": \"\",\n        \"description\": \"\"\n      }\n    },\n    {\n      \"column\": \"text_embeddings\",\n      \"properties\": {\n        \"dtype\": \"string\",\n        \"num_unique_values\": 358,\n        \"samples\": [\n          \"[-0.024495840072631836, -0.019548002630472183, 0.010690630413591862, -0.0347590371966362, 0.08193431049585342, 0.04042898491024971, 0.019045602530241013, -0.03928661718964577, 0.00940808653831482, 0.01768367737531662, 0.06728743761777878, 0.04689706861972809, -0.052900467067956924, 0.012942779809236526, -0.00762767530977726, -0.010245845653116703, 0.0028170046862214804, -0.0285943616181612, 0.014095492660999298, -0.08740559220314026, 0.010795358568429947, 0.012965754605829716, -0.0013650814071297646, 0.005395784042775631, 0.012565015815198421, -0.024045338854193687, 0.04608122259378433, -0.022193526849150658, 0.014641175977885723, 0.03050861693918705, -0.06756328791379929, 0.057331234216690063, -0.02096937783062458, -0.003653481137007475, -0.027891088277101517, -0.03431324660778046, -0.020078320056200027, 0.016706762835383415, 0.008670388720929623, 0.051131729036569595, 0.027750154957175255, -0.04139947146177292, 0.009935437701642513, -0.011914449743926525, 0.014063804410398006, 0.008444307371973991, -0.006798475980758667, -0.0017801567446440458, 0.043877046555280685, -0.04898861050605774, 0.011739796958863735, 0.027696216478943825, 0.0608246773481369, -0.010061809793114662, -0.02651863731443882, -0.026643753051757812, -0.03937316685914993, 0.037959128618240356, -0.018965980038046837, 0.006049683783203363, -0.008131826296448708, -0.00016902862989809364, 0.0036096321418881416, -0.005235111340880394, 0.0037749295588582754, -0.057786498218774796, -0.009939284063875675, -0.03520137444138527, -0.00198262557387352, 0.03696721792221069, -0.009843423962593079, -0.03727584704756737, 0.05768262594938278, -0.06546596437692642, -0.08325571566820145, -0.1066378653049469, -0.03195543587207794, 0.0343659482896328, 0.029356174170970917, -0.006750358734279871, -0.04317846521735191, -0.04678117856383324, -0.03291446715593338, 0.005180401727557182, -0.08440111577510834, 0.08363498002290726, -0.0026069083251059055, 0.030618809163570404, -0.008339724503457546, 0.022714396938681602, 0.023151928558945656, -0.03443625569343567, 0.05545034632086754, -0.03689679875969887, 0.017567221075296402, 0.011701863259077072, -0.035635825246572495, -0.03915468603372574, -0.00557791069149971, -0.02962588146328926, 0.006220763549208641, -0.05452519282698631, -0.012219266965985298, -0.014598422683775425, 0.020749753341078758, -0.03195623680949211, 0.05273957550525665, -0.012775148265063763, -0.03848901391029358, 0.04529165104031563, -0.03207705542445183, 0.020760664716362953, -0.03652041777968407, -0.013853144831955433, -0.002287775743752718, -0.032213207334280014, 0.009808561764657497, 0.07815873622894287, 0.010312491096556187, 0.03537200018763542, 0.013823805376887321, -0.021073604002594948, 0.03435666114091873, 0.03449476510286331, 0.026792312040925026, -0.007829924114048481, 0.027894165366888046, 0.025606669485569, 0.031361281871795654, 0.04481503739953041, -0.019944800063967705, -0.04413727670907974, -0.005618306342512369, 0.011003995314240456, 0.022429415956139565, 0.09492428600788116, -0.00011340697528794408, 0.009914614260196686, 0.043421175330877304, -0.02002858556807041, 0.018911272287368774, -0.006781748495995998, -0.048499032855033875, 0.042385976761579514, -0.010272100567817688, 0.03428953140974045, -0.03834868222475052, -0.03240550309419632, 0.02946876361966133, -0.03256072849035263, -0.01173948124051094, -0.011737560853362083, -0.08522999286651611, 0.021987564861774445, 0.062380097806453705, 0.013623262755572796, 0.015942484140396118, 0.014750946313142776, 0.005272322800010443, 0.026796117424964905, 0.059895873069763184, 0.0026785170193761587, 0.009325560182332993, -0.03340255096554756, -0.01981954835355282, -0.05892612412571907, 0.0012368083698675036, 0.03345828130841255, 0.0009760850225575268, -0.02017514780163765, -0.023530324921011925, 0.016255812719464302, -0.050280604511499405, -0.016633415594697, -0.014649122953414917, -0.07976491004228592, 0.052326273173093796, -0.03073089011013508, -0.06888161599636078, -0.007747053634375334, -0.021156148985028267, -0.041226908564567566, 0.028172973543405533, 0.013491898775100708, 0.013726755976676941, 0.0045212940312922, 0.05730981379747391, -0.03213104233145714, -0.00811356958001852, -0.0382576584815979, -0.007096497341990471, -0.04245104268193245, -0.01005234569311142, 0.011950957588851452, 0.0029165686573833227, -0.0069220890291035175, -0.002818403299897909, 0.045610666275024414, 0.010114854201674461, 0.015090551227331161, -0.021948162466287613, 0.11093973368406296, -0.004741917829960585, 0.023297347128391266, 0.035332970321178436, 0.01798340678215027, 0.03798501566052437, -0.012123112566769123, -0.007315265014767647, 0.06402407586574554, -0.04746644198894501, 0.019408777356147766, -0.06646822392940521, 0.026055119931697845, 0.09375857561826706, 0.016382701694965363, 0.01219233963638544, 0.02249239571392536, 0.010875355452299118, -0.03614158183336258, 0.0028558350168168545, 0.011684292927384377, -0.003946910612285137, 0.03025117702782154, -0.013541078194975853, 0.06936205178499222, -0.005608269013464451, 0.006274028681218624, -0.051592741161584854, -0.012080670334398746, 0.008331362158060074, 0.04772065579891205, 0.028080156072974205, -0.021264618262648582, 0.09137862175703049, -0.022609295323491096, 0.02011716552078724, 0.02768920548260212, -0.01119339931756258, 0.04107874259352684, -0.060199178755283356, 0.0561443567276001, 0.03396724909543991, -0.01868453249335289, -0.04343504458665848, -0.030816981568932533, -0.05279120057821274, 0.04265649989247322, 0.00289436848834157, 0.06498348712921143, -0.012539117597043514, -0.08372586965560913, 0.0398143045604229, 0.004987639840692282, -0.043938905000686646, 0.008512092754244804, -0.08576826006174088, -0.021592561155557632, -0.04210039973258972, 0.01370956376194954, 0.0619736909866333, -0.035416532307863235, -0.01359250396490097, -0.048573654145002365, -0.050611305981874466, -0.01858590729534626, 0.016572555527091026, -0.050221968442201614, -0.04992029070854187, 0.02436475269496441, -0.029552007094025612, -0.022550083696842194, 0.050599440932273865, 0.01888321340084076, 0.012416387908160686, 0.0636475682258606, -0.025637226179242134, 0.03672399744391441, 0.018384592607617378, -0.05534478276968002, 0.019831528887152672, 0.04753058776259422, 0.02564498595893383, -0.042262963950634, -0.006540181115269661, -0.03945237025618553, -0.03981111943721771, 0.015928860753774643, -0.06022590026259422, -0.030599484220147133, -0.05851016193628311, -0.03620144724845886, -0.01477859914302826, -0.04547581449151039, -0.0380994938313961, -0.03927675634622574, 0.05487469956278801, 0.023962445557117462, 0.020976899191737175, -0.08912904560565948, 0.0007982988026924431, 0.0033765414264053106, -0.029751773923635483, -0.09569121152162552, 0.029526948928833008, -0.028405174612998962, 0.00864203367382288, 0.010796578601002693, 0.0005208170623518527, -0.02014824189245701, 0.008019591681659222, 0.0033364039845764637, 0.016600284725427628, 0.0023917064536362886, 0.03928660601377487, 0.032104458659887314, -0.0017083849525079131, 0.0074473475106060505, -0.04608573392033577, 0.05975022539496422, -0.015633827075362206, 0.030359042808413506, 0.010199405252933502, -0.01245795376598835, 0.0369456522166729, -0.021968018263578415, -0.060646381229162216, 8.300896297441795e-05, -0.001255607116036117, -0.0493948869407177, -0.03216591477394104, 0.041473619639873505, -0.020078087225556374, 0.03114052303135395, 0.0012298328801989555, 0.04671814665198326, -0.034060169011354446, -0.0029334770515561104, -0.022285757586359978, -0.04417935386300087, -0.009654310531914234, 0.007747230120003223, -0.04486522823572159, -0.052660223096609116, 0.007214577402919531, -0.05109464004635811, -0.032589465379714966, 0.005721676629036665, 0.07198990136384964, 0.022085541859269142, 0.009078571572899818, 0.07168155908584595, -0.04533696547150612, 0.004344031680375338, -0.021297529339790344, 0.014059757813811302, 0.07416250556707382, -0.012069271877408028, 0.029237935319542885, -0.0053190793842077255, -0.005453547462821007, 0.03130246326327324, -0.0269209835678339, 0.007615028880536556, 0.009827643632888794, -0.021957749500870705, 0.030120469629764557, 0.0017720612231642008, 0.0010605446295812726, 0.006119188386946917, 0.0006578393513336778, -0.0073621803894639015, 0.0129904355853796, 0.0010986238485202193, -0.00997242797166109, 0.0015336080687120557, -0.05673395097255707, 0.002642496721819043, 0.03849880397319794, 0.018267855048179626, 0.027980497106909752, -0.0039849975146353245, 0.008596939034759998, -0.026547428220510483, 0.03532279655337334, -0.006172769237309694, 0.025471024215221405, 0.045138388872146606, -0.013427188619971275, -0.012287072837352753, -0.030265044420957565, 0.023581305518746376, 0.08670546114444733, 0.0012082620523869991, -0.014631012454628944, 0.0041849929839372635, 0.01693817600607872, -0.024118155241012573, 0.025146784260869026, -0.053649235516786575, -0.06399679183959961, -0.013935883529484272, -0.061350297182798386, -0.0571679063141346, 0.015884511172771454, -0.06708178669214249, -0.036453478038311005, 0.062061648815870285, -0.0059407795779407024, -0.05095860734581947, 0.006472948007285595, -0.039122242480516434, -0.0039845677092671394, -0.05211517587304115, -0.022782448679208755, -0.01994137465953827, 0.02336004562675953, -0.030733902007341385, -0.005689980927854776, 0.04151742532849312, -0.003396487794816494, 0.00846165232360363, 0.01556939072906971, -0.09129119664430618, -0.010494252666831017, 0.009073179215192795, 0.0035649260971695185, -0.00846239272505045, 0.03194407746195793, 0.012510708533227444, -0.025266025215387344, 0.004937563557177782, 0.027879707515239716, -0.03683433681726456, -0.01844281330704689, -0.06356745958328247, 0.01602913998067379, 0.05915813893079758, -0.00612244475632906, -0.02854098007082939, -0.009833485819399357, -0.017063524574041367, 0.04317045211791992, -0.03471449017524719, -0.007432105951011181, -0.02616627886891365, -0.013728084042668343, -0.04279696196317673, 0.06432011723518372, -0.10828354954719543, -0.013414866290986538, -0.05180048197507858, -0.0005376224289648235, -0.015717720612883568, -0.10052309185266495, -0.02888396568596363, 0.037205010652542114, 0.049777232110500336, -0.003924563992768526, 0.010362689383327961, -0.026621494442224503, 0.00040727536543272436, -0.021092064678668976, -0.06082162633538246, 0.03607962653040886, -0.035631440579891205, 0.046028606593608856, -0.013546638190746307, 0.036645013839006424, 0.028219742700457573, 0.00034212690661661327, -0.03174092620611191, 0.013122244738042355, 0.038358625024557114, 0.00848796870559454, 0.02031540870666504, -0.07519979774951935, -0.011424108408391476, 0.0032654397655278444, -0.009007846005260944, -0.02702598087489605, 0.021661100909113884, 0.02617035247385502, 0.011006435379385948, -0.014559111557900906, 0.06373699754476547, 0.02425285428762436, 0.014817005023360252, -0.018604595214128494, 0.0503440722823143, 0.035767991095781326, -0.026519693434238434, -0.0031879940070211887, -0.009211229160428047, -0.025637449696660042, 0.028058623895049095, 0.010670634917914867, -0.025838904082775116, 0.02783196046948433, 0.015194120816886425, 0.012944302521646023, -0.02030722051858902, 0.02903594635426998, 0.008268994279205799, 0.07158181816339493, -0.04538204148411751, 0.003980387933552265, -0.03374102711677551, 0.008750437758862972, -0.020156607031822205, 0.011715688742697239, 0.05897563695907593, -0.06285206228494644, -0.022637082263827324, 0.020948780700564384, -0.0234615970402956, -0.05355185642838478, 0.016835207119584084, 0.034859392791986465, 0.0022794343531131744, 0.05085444822907448, 0.0068192570470273495, -0.08267807960510254, -0.018437640741467476, 0.036303550004959106, -0.07417264580726624, 0.005868062376976013, 0.04952691122889519, -0.03604578599333763, 0.0497322641313076, -0.01791749708354473, 0.029576711356639862, -0.01739414781332016, -0.03074544481933117, -0.0045851655304431915, -0.04219614714384079, 0.018231449648737907, 0.024460816755890846, -0.026439279317855835, 0.02795746922492981, 0.03742154687643051, -0.00013209579628892243, -0.012497329153120518, 0.00825637299567461, -0.014411721378564835, 0.009204715490341187, 0.04414420574903488, -0.05598309636116028, 0.024977900087833405, 0.0018300670199096203, -0.06581546366214752, 0.004916540812700987, -0.04280298203229904, -0.07586187869310379, 0.04207135736942291, -0.029668031260371208, -0.01799142360687256, -0.026500703766942024, -0.005142896436154842, -0.05307289958000183, 0.004429755732417107, -0.002095405710861087, 0.014192912727594376, 0.045220308005809784, 0.026674818247556686, 0.004226319026201963, 0.05793110281229019, -0.0011564777232706547, 0.09747247397899628, 0.019882824271917343, -0.033995240926742554, 0.001566550345160067, -0.03366823121905327, 0.0032862687949091196, 0.09009155631065369, 0.013295980170369148, -0.040010154247283936, -0.02392408438026905, -0.04138560965657234, -0.009690326638519764, 0.08894186466932297, 0.0398419089615345, 0.009052886627614498, 0.005965666379779577, -0.020123178139328957, 0.01232905313372612, 0.10062295198440552, -0.009218195453286171, 0.0567801371216774, 0.05337098240852356, -0.04630853235721588, 0.014171971008181572, -0.027396760880947113, -0.018375128507614136, 0.04626879468560219, -0.03313656151294708, -0.013084786012768745, -0.02994944527745247, 0.010029645636677742, -0.05846908316016197, 0.0030976412817835808, -0.03228553757071495, 0.011940409429371357, -0.03049338608980179, 0.02314610965549946, 0.0115142110735178, 0.000760674593038857, -0.0254841186106205, 0.02426990494132042, 0.030456770211458206, -0.005244791973382235, -0.009588956832885742, -0.04968525096774101, -0.021762212738394737, -0.034217480570077896, 0.010718191042542458, 0.03375698998570442, -0.02699120342731476, -0.013983136974275112, 0.026745788753032684, 0.030683165416121483, -0.04059366136789322, -0.022197967395186424, -0.009299039840698242, 0.038115501403808594, 0.020858103409409523, 0.03623174503445625, -0.0030575955752283335, 0.06296014785766602, 0.01430284883826971, 0.041985344141721725, 0.09539324790239334, 0.007137842010706663, -0.01652742549777031, -0.031829461455345154, 0.021727904677391052, -0.005910827312618494, -0.030056966468691826, -0.026561222970485687, -0.028447486460208893, -0.058537889271974564, -0.026140527799725533, 0.02305961586534977, 0.01292925700545311, -0.0445893257856369, 0.06786461919546127, 0.020062245428562164, -0.09450871497392654, -0.00485813757404685, 0.013589399866759777, -0.0638580396771431, -0.004293516743928194, 0.02529461868107319, 0.004289072006940842, 0.005195349920541048, -0.042331866919994354, -0.04056749492883682, -0.019795138388872147, 0.003823445178568363, -0.02080826833844185, -0.05109550431370735, 0.04345069080591202, -0.03595953434705734, 0.0038558803498744965, -0.015627946704626083, -0.013516566716134548, -0.046544771641492844, -0.0005209231749176979, -0.005512421019375324, 0.015588352456688881, -0.07386574149131775, 0.047341588884592056, 0.008351827040314674, 0.018838733434677124, 0.012679941020905972, 0.07303887605667114, -0.03271420672535896, 0.025359537452459335, 0.01974564790725708, 0.01421580370515585, 0.01792103983461857, -0.05225948244333267, -0.022292878478765488, 0.020625583827495575, 0.0018441915744915605, 0.0757230594754219, -0.01541057601571083, 0.018796583637595177, -0.01642146334052086, -0.03147299587726593, 0.053320109844207764, -0.04379851743578911, -0.04128088429570198, -0.017905179411172867, 0.029793402180075645, 0.022129030898213387, 0.006516826339066029, 0.026825757697224617, 0.04472014307975769, 0.05822313204407692, -0.029511546716094017, -0.03011460043489933, 0.020996589213609695, -0.029061447829008102, -0.0219593308866024, -0.026613788679242134, -0.03341902792453766, 0.06370659917593002, 0.021622154861688614, 0.024170054122805595, 0.06287477910518646, -0.017787663266062737, -0.07811683416366577, -0.013534191995859146, -0.014471683651208878, -0.0165825504809618, 0.010490884073078632, 0.016617627814412117, -0.025883452966809273, 0.055119551718235016, 0.002831111429259181, 0.04868869483470917, -0.019752342253923416, 0.003253805683925748, -0.0310201458632946, 0.04042108356952667, -0.0700753927230835, 0.07516641169786453, -0.021701613441109657, 0.0077416300773620605, 0.07411643117666245, -0.03939662501215935, -0.009556238539516926, 0.01284646987915039, -0.04813973978161812, 0.047806743532419205, 0.004087842535227537, 0.005942103452980518, -0.041226379573345184, -0.041588399559259415, -0.009675057604908943, -0.033108990639448166, -0.005569508299231529, 0.06811156868934631, 0.013990652747452259, 0.019224602729082108, -0.02182469144463539, -0.01059639360755682, 0.020226867869496346, -0.023332297801971436, -0.05572411045432091, 0.0009770559845492244, 0.030923966318368912, 0.06411046534776688, 0.032783765345811844, 0.026205390691757202, 0.0015804478898644447, 0.019941750913858414, -0.016167890280485153, 0.03200168535113335, -0.023245807737112045, 0.03385831415653229, -0.02357419580221176, -0.021405423060059547, 0.04432596266269684, 0.0868680328130722, 0.017887193709611893, 0.013647942803800106]\",\n          \"[0.0032497660722583532, -0.028529277071356773, 0.0048729474656283855, -0.04285702481865883, 0.08834806829690933, 0.01440398022532463, 0.017984598875045776, -0.0439644418656826, 0.02138623408973217, 0.0614459365606308, 0.03551265597343445, 0.009301264770328999, -0.030730729922652245, -0.023046843707561493, 0.01306583546102047, -0.019697479903697968, -0.005997784901410341, -0.02316918596625328, 0.0005285313818603754, -0.048991598188877106, 0.0006923876935616136, -0.01989649422466755, -0.024726027622818947, -0.037292975932359695, -0.010651292279362679, -0.034968648105859756, -0.003933814354240894, -0.031870484352111816, -0.0311359241604805, 0.047637928277254105, -0.0672486200928688, 0.045606765896081924, -0.03152596205472946, 0.023650402203202248, -0.05240499600768089, 0.00560134369879961, 0.026650728657841682, -0.03466739505529404, 0.004513386636972427, 0.03239454701542854, 0.01802893541753292, -0.01724385842680931, -0.0009668092825450003, 0.00047787712537683547, 0.00798410177230835, 0.0065717557445168495, -0.005041024181991816, -0.010639128275215626, 0.03265424817800522, -0.06305260956287384, 0.018273841589689255, 0.035371385514736176, 0.05859985947608948, -0.014422401785850525, -0.05851159989833832, -0.03449871763586998, -0.04780742898583412, 0.0013338230783119798, -0.017813697457313538, -0.030211128294467926, -9.865019819699228e-05, 0.008536925539374352, -0.020376864820718765, 0.03463263064622879, -0.022891974076628685, -0.06787114590406418, 0.01121425349265337, -0.035153795033693314, 0.01783827878534794, 0.03849763050675392, 0.036903101950883865, -0.028005296364426613, 0.0691496804356575, -0.06936454772949219, -0.08891185373067856, -0.08000782132148743, 0.006725783459842205, 0.04025065898895264, 0.00867693591862917, -0.010139867663383484, -0.025136366486549377, -0.06822489202022552, -0.004073204472661018, -0.009707879275083542, -0.06443852931261063, 0.05857914313673973, -0.029576916247606277, 0.009168031625449657, 0.0164618082344532, 0.04869205877184868, 0.014628109522163868, 0.008128554560244083, 0.046925146132707596, -0.02866894192993641, 0.03810935094952583, 0.059794288128614426, -0.038032982498407364, -0.045830223709344864, 0.017771244049072266, -0.06048843264579773, 0.005274152848869562, -0.0466684028506279, 0.025803091004490852, -0.004102130886167288, 0.005666287615895271, -0.02096005156636238, 0.06826605647802353, -0.006657284218817949, -0.06241540238261223, 0.05817403644323349, -0.034245654940605164, -0.012964705936610699, -0.02456478402018547, -0.0018535108538344502, -0.0018242445075884461, -0.03805427625775337, 0.016566744074225426, 0.0973164439201355, 0.03848784416913986, 0.023995622992515564, 0.05005568265914917, 0.013228701427578926, 0.032889340072870255, 0.029806192964315414, 0.017932690680027008, 0.029590241611003876, 0.015407904982566833, 0.008711844682693481, 0.03599990904331207, 0.06713972240686417, -0.01767459325492382, -0.0033643213100731373, 0.023139365017414093, 0.04164116457104683, -0.011225681751966476, 0.06729888170957565, 0.03357638046145439, -0.013142287731170654, 0.06685065478086472, -0.019811900332570076, 0.02245008386671543, 0.0012423752341419458, 0.004480831325054169, 0.03843139111995697, -0.03214089199900627, 0.024642877280712128, -0.04773690924048424, 0.007949188351631165, 0.02738959714770317, -0.004669711925089359, 0.023832185193896294, 0.026200827211141586, -0.048056527972221375, 0.008031175471842289, 0.07779505103826523, 0.040054887533187866, 0.0026603632140904665, 0.005087937228381634, -0.0014949366450309753, 0.015256908722221851, 0.07891467958688736, -0.006014921236783266, 0.012027683667838573, -0.04773469269275665, -0.027983561158180237, -0.06428695470094681, 0.0036245437804609537, 0.02881121076643467, 0.013499384745955467, -0.025756865739822388, -0.00035042583476752043, -0.04465485364198685, -0.038394976407289505, -0.027560440823435783, 0.029291363433003426, -0.04498746618628502, 0.032597701996564865, -0.03274571895599365, -0.08887466043233871, 0.01422843523323536, -0.014578958973288536, -0.023102857172489166, 0.018634967505931854, -0.00658390624448657, 0.012993134558200836, -0.0093795545399189, 0.08003932237625122, -0.006973952986299992, 0.019450442865490913, -0.005590096581727266, -0.016812127083539963, -0.03332064673304558, -0.026387780904769897, -0.00628876406699419, -0.002588463481515646, 0.0204732995480299, 0.03022337146103382, 0.027126818895339966, -0.005844131112098694, 0.0011911670444533229, -0.021061928942799568, 0.08147851377725601, 0.02365078590810299, 0.02329297363758087, 0.026571471244096756, -0.03316855430603027, 0.06594077497720718, 0.018403636291623116, -0.02748575061559677, 0.1113928034901619, -0.03321601077914238, 0.045383453369140625, -0.0738944262266159, 0.018631882965564728, 0.10400834679603577, 0.01031668670475483, 0.040388934314250946, -0.0023417179472744465, 0.015563080087304115, 0.004127455875277519, -0.000977406045421958, 0.006287666037678719, -0.01228929590433836, 0.028841909021139145, -0.0358005128800869, 0.02751951478421688, 0.008901692926883698, 0.053107261657714844, -0.006238814443349838, 0.003068458754569292, -0.010211644694209099, 0.010220369324088097, 0.006367391441017389, 0.006353497039526701, 0.08845126628875732, -0.02761041186749935, 0.002739486051723361, 0.027583377435803413, 0.00047439889749512076, 0.02349185384809971, -0.06366677582263947, 0.07726144045591354, 0.04586394131183624, 0.02276703342795372, -0.05799902603030205, -0.020903952419757843, -0.04452846199274063, 0.04730899631977081, -0.012298191897571087, 0.05178799480199814, -0.0026683341711759567, -0.06905029714107513, 0.023097652941942215, 0.010687376372516155, -0.03279750421643257, 0.05203152447938919, -0.05142207443714142, -0.021867739036679268, -0.0014379298081621528, 0.031151024624705315, 0.04935954883694649, -0.015185454860329628, -0.0020260128658264875, -0.053210169076919556, -0.02848975732922554, -0.03284066542983055, 0.047608960419893265, -0.0406322255730629, -0.0527624748647213, -0.008169637992978096, -0.014576838351786137, -0.030339764431118965, 0.040469396859407425, -0.0029798969626426697, -0.011587640270590782, 0.045539017766714096, -0.052522022277116776, 0.01572040095925331, 0.014929764904081821, -0.04652629420161247, 0.01413281261920929, 0.06759681552648544, 0.020923037081956863, -0.04807167127728462, -0.04569796845316887, -0.03624561056494713, -0.03882835432887077, -0.011748998425900936, -0.028105080127716064, -0.03855803236365318, -0.08394341170787811, 0.013091625645756721, -0.0024068134371191263, -0.031237434595823288, -0.0696287453174591, -0.018116924911737442, 0.02282351441681385, 0.056600384414196014, 0.006929847877472639, -0.06500806659460068, 0.026670847088098526, 0.01080909464508295, -0.015934167429804802, -0.07112842053174973, 0.05376423895359039, -0.009798118844628334, -0.04120531305670738, -0.02897106111049652, -0.00019624619744718075, -0.021864337846636772, 0.026943547651171684, 0.0067842076532542706, 0.019027531147003174, 0.02412143163383007, 0.03264890983700752, 0.009961804375052452, 0.012370136566460133, 0.012694898061454296, -0.020934678614139557, 0.061625584959983826, -0.03933466970920563, 0.054825395345687866, -0.007126989774405956, -0.045280538499355316, 0.05268831178545952, -0.01586919277906418, -0.06452266126871109, -0.0031300298869609833, -0.03562654182314873, -0.06309651583433151, -0.05661185830831528, 0.03556142374873161, 0.005377573426812887, 0.019119704142212868, 0.005419137887656689, 0.04645010456442833, -0.0658445879817009, -0.013240087777376175, -0.04237857460975647, -0.060060061514377594, -0.020407311618328094, 0.010513601824641228, -0.0526866540312767, -0.0434114895761013, 0.024480916559696198, -0.023964466527104378, -0.03763871639966965, 0.020243631675839424, 0.05064741522073746, -0.002171455416828394, -0.0119383055716753, 0.06880609691143036, -0.0125753004103899, -0.015316162258386612, 0.0009327393490821123, -0.0332452692091465, 0.059059713035821915, 0.00952926091849804, 0.05498001351952553, -0.024323400110006332, -0.03878672048449516, -0.0037285431753844023, -0.015222781337797642, 0.0030020715203136206, 0.002065659500658512, -0.0013925842940807343, 0.014697420410811901, -0.022945193573832512, 0.0021527858916670084, 0.06956987828016281, -0.012932811863720417, -0.031707290560007095, 0.0011453678598627448, -0.017153747379779816, -0.03312065079808235, 0.003255434799939394, -0.03182387724518776, -0.009011861868202686, 0.01258400734513998, 0.0691353976726532, -0.00902066845446825, 0.02468280680477619, 0.030091356486082077, -0.008016230538487434, -0.003042124444618821, -0.04885844513773918, 0.03876449540257454, 0.03422389551997185, -0.007170155644416809, 0.02113458700478077, -0.0003043143660761416, 0.015752442181110382, 0.07736103236675262, 0.0224020853638649, -0.0024101866874843836, -0.005628477316349745, -0.03179759159684181, 0.0001253910450031981, 0.019622884690761566, -0.013607197441160679, -0.019298948347568512, -0.027936460450291634, -0.0734228864312172, -0.0063584065064787865, -0.008166652172803879, -0.06821002066135406, -0.06711868941783905, -0.010414297692477703, -0.0014222199097275734, -0.031862884759902954, 0.005000678822398186, -0.04677267000079155, -0.020395731553435326, -0.05901513248682022, -0.03610486537218094, -0.023788057267665863, 0.00896717794239521, -0.03377752751111984, 0.027967026457190514, 0.01467343233525753, 0.017742587253451347, -0.0042413268238306046, 0.005285998806357384, -0.06717948615550995, -0.024313844740390778, 0.016972258687019348, -0.016689641401171684, -0.02535686269402504, 0.0599554143846035, 0.018723636865615845, -0.0012083083856850863, -0.014401632361114025, 0.024778250604867935, -0.007742308080196381, -0.013936059549450874, -0.05625249445438385, 0.01247075293213129, 0.0061053079552948475, -0.0015307158464565873, -0.032705314457416534, 0.02143976464867592, 0.030359867960214615, -0.0010428683599457145, -0.035859815776348114, 0.0060616531409323215, -0.04654841125011444, 0.00094322778750211, -0.039268407970666885, 0.050659120082855225, -0.10866225510835648, 0.015594663098454475, -0.04716852679848671, -0.012632499448955059, -0.03965234011411667, -0.07451069355010986, -0.04894811660051346, 0.007345552556216717, 0.06537704914808273, -0.03918980807065964, 0.012937717139720917, -0.011098423972725868, -0.02835211530327797, -0.0441255122423172, -0.07977662980556488, 0.05092740058898926, -0.029422294348478317, 0.012172948569059372, -0.018016638234257698, 0.04309958219528198, -0.0025507905520498753, -0.020399242639541626, -0.008552235551178455, -0.011713683605194092, 0.044505681842565536, -0.0028509562835097313, 0.008017218671739101, -0.0663699135184288, -0.020199419930577278, 0.025021495297551155, 0.002971779089421034, 0.01084221713244915, 0.006667569279670715, 0.05457129329442978, 0.009647308848798275, -0.0033166499342769384, 0.03315546363592148, 0.053227320313453674, 0.018014797940850258, -0.004104121588170528, 0.08069856464862823, 0.008953091688454151, -0.032013196498155594, -0.026148496195673943, -0.02113841101527214, -0.03670336678624153, 0.01966571807861328, -0.01941055990755558, 0.000911435519810766, 0.010121389292180538, 0.04120565205812454, 0.02412138134241104, -0.02528679184615612, 0.04349731281399727, -0.019979005679488182, 0.04106486588716507, -0.05728192999958992, 0.030279774218797684, -0.012898631393909454, 0.04101387411355972, -0.03549877554178238, -0.01726921834051609, 0.033423975110054016, -0.024532929062843323, 0.006634463556110859, 0.026936106383800507, -0.017014561221003532, -0.06464613974094391, 0.030258163809776306, 0.06770755350589752, -0.024097109213471413, 0.07367629557847977, -0.0029851289000362158, -0.06070336699485779, -0.03111659549176693, 0.00471161026507616, -0.07453073561191559, -0.015526332892477512, 0.036439910531044006, -0.041887909173965454, 0.04417675361037254, 0.011695819906890392, 0.04419193044304848, -0.047028470784425735, -0.012514556758105755, -0.007792838849127293, -0.02118932642042637, 0.06704369932413101, 0.015025773085653782, -0.02056967467069626, 0.031692590564489365, 0.04215575009584427, -0.008809339255094528, -0.03083943948149681, 0.014837049879133701, 0.00031504000071436167, -6.671699520666152e-05, 0.04621141031384468, -0.038328539580106735, 0.021192485466599464, 0.007492754142731428, -0.03773963823914528, -0.004598697647452354, -0.02022046037018299, -0.03441869840025902, 0.02378975600004196, -0.0021685250103473663, -0.026527559384703636, -0.04694289714097977, 0.021173721179366112, -0.052680909633636475, 0.012851330451667309, -0.015337852761149406, -0.022082554176449776, 0.0234396792948246, 0.023860469460487366, 0.04922115430235863, 0.04911698028445244, -0.0007589834276586771, 0.06694597750902176, -0.007484077475965023, -0.03422527387738228, -0.020596034824848175, -0.03334401920437813, -0.03035988286137581, 0.028743421658873558, -0.03482399880886078, -0.04905550554394722, -0.005674412474036217, -0.01571129634976387, -0.016178423538804054, 0.034722212702035904, 0.005893601570278406, 0.006117245182394981, 0.01097460463643074, -0.0021233512088656425, 0.0063995979726314545, 0.08992140740156174, -0.00422348128631711, 0.07862532138824463, 0.03698648512363434, -0.07726851105690002, 0.00880414992570877, -0.027879510074853897, -0.030770907178521156, 0.039292313158512115, -0.035230789333581924, -0.028461623936891556, -0.0151531295850873, 0.002682317281141877, -0.0054913777858018875, 0.007657065987586975, -0.03284723684191704, 0.013109998777508736, -0.046671874821186066, 0.07938254624605179, 0.01725723408162594, -0.00993798952549696, -0.030987445265054703, 0.007677681744098663, 0.011623420752584934, -0.010516520589590073, -0.0258261039853096, -0.0023162977304309607, -0.009134411811828613, -0.025824332609772682, 0.008916526101529598, 0.03190287947654724, 0.001384262926876545, 0.006505374331027269, 0.02445676177740097, 0.04823901876807213, -0.018026301637291908, -0.011413360945880413, -0.0210921261459589, 0.01564612425863743, -0.044922251254320145, 0.03248303756117821, 0.0005640144227072597, 0.06242925301194191, -0.0014153957599774003, 0.04773714020848274, 0.08998002111911774, 0.0345068983733654, -0.01580800488591194, -0.02274387702345848, 0.0037944819778203964, -0.002222403883934021, -0.011332868598401546, 0.007800595369189978, -0.03795761242508888, -0.09518110752105713, -0.029688594862818718, 0.050257258117198944, 0.03077646717429161, -0.0042574843391776085, 0.07695799320936203, 0.04148177430033684, -0.09157472848892212, -0.028131501749157906, 0.009323927573859692, -0.008325041271746159, -0.02203589305281639, 0.02743888832628727, 0.022779390215873718, 0.019644489511847496, -0.03871050849556923, -0.007548053748905659, -0.030813714489340782, 0.030230695381760597, -0.0410563126206398, -0.05796370282769203, 0.005794854834675789, -0.015233000740408897, 0.010300228372216225, -0.015031815506517887, -0.04779335483908653, -0.026102963835000992, -0.028968684375286102, -0.023042157292366028, 0.019279539585113525, -0.08836869895458221, 0.051645420491695404, -0.005404587835073471, 0.01661348156630993, 0.0031028108205646276, 0.07208232581615448, -0.0009473682730458677, 0.049238257110118866, 0.0003097580629400909, 0.008145704865455627, 0.0412215031683445, -0.03402399271726608, -0.022570200264453888, 0.007354732137173414, -0.00241637765429914, 0.05413970723748207, -0.028840994462370872, 0.04814695939421654, -0.007969583384692669, -0.010776670649647713, 0.02126961201429367, -0.053009793162345886, -0.01928044855594635, -0.03596865013241768, -0.014893652871251106, 0.010329236276447773, -0.006131348200142384, 0.028649358078837395, 0.015644289553165436, 0.07337014377117157, -0.025076888501644135, -0.03602337837219238, 0.026671946048736572, 0.020780635997653008, -0.009370407089591026, -0.0413491427898407, -0.03286660462617874, 0.05221811309456825, 0.022269319742918015, 0.026940034702420235, 0.049943454563617706, -0.025275519117712975, -0.044552017003297806, 0.03767194226384163, -0.004437439609318972, 0.015184295363724232, 0.0020315321162343025, 0.025073202326893806, -0.04389902576804161, 0.06284943222999573, 0.009441474452614784, 0.04418179392814636, 0.030069388449192047, 0.024814149364829063, -0.045705415308475494, 0.054169535636901855, -0.05623569339513779, 0.058141518384218216, -0.005814036820083857, 0.021429048851132393, 0.044981587678194046, 0.03714688494801521, 0.0005321839125826955, 0.04810921847820282, -0.03922117501497269, 0.02829090505838394, -0.027230340987443924, -0.013457117602229118, -0.07628286629915237, -0.03087497130036354, -0.05564817413687706, -0.046736836433410645, 0.014263981953263283, 0.07070400565862656, 0.015123460441827774, 0.019297251477837563, -0.0196816585958004, -0.023607321083545685, 0.02765372022986412, -0.032167211174964905, -0.0624539740383625, 0.03999152034521103, -0.005882956087589264, 0.05955718085169792, 0.08123894035816193, -0.0021677659824490547, -0.0022708249744027853, 0.009041077457368374, -0.01859957166016102, 0.018390532582998276, -0.012680367566645145, 0.06801632046699524, -0.04660523682832718, 0.002057327190414071, 0.00791409146040678, 0.03412659093737602, 0.0012415952514857054, 0.057472120970487595]\",\n          \"[-0.00925917737185955, -0.004341592080891132, -0.0013177396031096578, -0.047742344439029694, 0.11249192804098129, 0.0037369506899267435, 0.03996696323156357, -0.03423081710934639, 0.00798643659800291, 0.05702369287610054, 0.0732015073299408, 0.03732988238334656, -0.027162903919816017, 0.013456158339977264, -0.033133845776319504, -0.01614111289381981, 0.024907957762479782, -0.014395048841834068, 0.030747568234801292, -0.09031905233860016, 0.04741760715842247, 0.013115091249346733, -0.01798795349895954, -0.014282896183431149, 0.013730443082749844, -0.0760306641459465, 0.0381397008895874, 0.013859299011528492, -0.016309494152665138, 0.05406247079372406, -0.05080033093690872, 0.0337752066552639, -0.035584136843681335, -0.0008990245405584574, -0.0468997098505497, 0.005854406859725714, 0.013801106251776218, 0.02147543616592884, -0.0021484093740582466, 0.030812624841928482, -0.013260122388601303, -0.04173661023378372, -0.04881221055984497, 0.005673015024513006, 0.021293051540851593, 0.04299461469054222, 0.001027212361805141, 0.013872289098799229, 0.0365312434732914, -0.03298388421535492, 0.023359183222055435, 0.05810084566473961, 0.042282406240701675, -0.045523736625909805, -0.008445465937256813, -0.023036563768982887, -0.05512651428580284, -0.03204711899161339, -0.004516243934631348, -0.01529435534030199, -0.002109924331307411, 0.00017354216834064573, -0.0328577496111393, 0.0410962849855423, -0.012865761294960976, -0.05907467007637024, -0.010648990981280804, -0.0198372695595026, 0.01072913408279419, 0.020545564591884613, 0.02600855566561222, -0.0388663150370121, 0.050745896995067596, -0.06757739931344986, -0.08234286308288574, -0.10712101310491562, -0.006754733622074127, 0.032486360520124435, 0.03580254688858986, 0.016376830637454987, -0.021357960999011993, -0.00952302198857069, -0.0011401434894651175, 0.020686058327555656, -0.06344901770353317, 0.05650754272937775, 0.03291654214262962, 0.02031204290688038, -0.02139025740325451, 0.017774436622858047, -0.0188894122838974, -0.03893975540995598, 0.04939907789230347, -0.03598811477422714, -0.007432641461491585, 0.048783279955387115, -0.05511331185698509, -0.044497132301330566, 0.004284343216568232, -0.005285068415105343, -0.010989589616656303, -0.06869601458311081, 0.001533676404505968, -0.0039466735906898975, -0.0126357302069664, -0.02252313494682312, 0.06530681997537613, 0.02389642223715782, -0.007075524423271418, 0.05056286230683327, 0.007676132023334503, -0.009623176418244839, 0.001320267328992486, 0.01816304586827755, 0.019572999328374863, -0.03150993585586548, 0.01446923054754734, 0.05792757496237755, 0.026895983144640923, 0.0021906381007283926, 0.03717181831598282, 0.031054671853780746, 0.035221297293901443, 0.036305371671915054, 0.009400674141943455, 0.008838657289743423, 0.016674263402819633, 0.052021633833646774, 0.03546656295657158, 0.04204917699098587, -0.004496729467064142, -0.0515347458422184, -0.00077620311640203, 0.03183598816394806, -0.0006178336916491389, 0.0942615494132042, 0.019712088629603386, 0.005121020134538412, 0.04970768094062805, 0.021427569910883904, 0.007508258800953627, -0.03326840326189995, -0.01709909923374653, 0.03663022443652153, -0.013081684708595276, 0.0697939321398735, -0.0382915660738945, -0.004752085078507662, 0.034597888588905334, -0.05839012190699577, -0.0067682997323572636, 0.031218012794852257, -0.08922731876373291, 0.012512030079960823, 0.044655583798885345, 0.0371638648211956, 0.019537679851055145, 0.04131264612078667, -0.006081560626626015, 0.019004924222826958, 0.06965547055006027, 0.02189103327691555, 0.006006814073771238, -0.008125287480652332, -0.009470045566558838, -0.023792019113898277, 0.032206565141677856, 0.008579019457101822, -0.0032757939770817757, -0.005161840468645096, -0.0009125872747972608, -0.046462323516607285, -0.042655039578676224, -0.021308569237589836, 0.006272925063967705, -0.059806760400533676, 0.039610788226127625, -0.0387662798166275, -0.05048186704516411, 0.010173161514103413, -0.016789810732007027, -0.04058636352419853, 0.036940135061740875, -0.006528907455503941, 0.0259082168340683, 0.012766459956765175, 0.06523732841014862, -0.011317281983792782, -0.007645199541002512, -0.04659856855869293, -0.031871844083070755, -0.050883788615465164, -0.006856696680188179, 0.0020172176882624626, 0.04465886205434799, 0.023473970592021942, -0.0009335132781416178, 0.02049313299357891, 0.003652764018625021, -0.01791324093937874, -0.014734003692865372, 0.07050567120313644, 0.041808851063251495, 0.02774050645530224, 0.04894104599952698, 0.011558068916201591, 0.0654253140091896, -0.019672736525535583, -0.013223079033195972, 0.03350790962576866, -0.03208319842815399, 0.05565059930086136, -0.06074443459510803, 0.0008757859468460083, 0.08957068622112274, 0.00855910126119852, 0.022093288600444794, 0.0026307774242013693, 0.034351710230112076, -0.018803929910063744, 0.003721751505509019, 0.020543565973639488, -0.019134607166051865, 0.02025713585317135, -0.01349425408989191, 0.05894190073013306, -0.028864964842796326, 0.05246768146753311, -0.018124375492334366, -0.003885883605107665, -0.01851635053753853, 0.020799117162823677, 0.0009073656401596963, -0.02701781876385212, 0.0797504186630249, -0.020403852686285973, 0.022060927003622055, 0.012223495170474052, -0.008903481997549534, 0.04149935767054558, -0.07057307660579681, 0.05330630764365196, 0.01950695365667343, 0.00037017525755800307, -0.03714137524366379, -0.014538848772644997, -0.030437448993325233, 0.003931497689336538, -0.02232452668249607, 0.05440162867307663, 0.019093839451670647, -0.06872382760047913, 0.03694964945316315, -0.011057703755795956, -0.05099094659090042, 0.032104745507240295, -0.08249594271183014, -0.013057449832558632, -0.0283287912607193, 0.028214644640684128, 0.032700493931770325, -0.05217950791120529, -3.625718818511814e-05, -0.04694925621151924, -0.01460628304630518, -0.021252557635307312, 0.0023703728802502155, -0.050013553351163864, -0.041203781962394714, -0.0028606264386326075, -0.025660527870059013, -0.06940200924873352, 0.04918636381626129, 0.015551888383924961, 0.03940063342452049, 0.009417867287993431, -0.04781147092580795, 0.011628475040197372, 0.013772054575383663, -0.06434542685747147, 0.03229435533285141, 0.05879784747958183, 0.020468920469284058, -0.04154736176133156, -0.020802240818738937, -0.010248180478811264, -0.0005446461145766079, -0.04278038442134857, -0.02533675730228424, -0.003078756621107459, -0.07122881710529327, -0.04476212337613106, -0.01024286262691021, -0.03536144271492958, -0.04537370428442955, -0.02541712298989296, 0.01081177033483982, 0.03858605772256851, 0.04389394819736481, -0.04669388383626938, -0.000984863261692226, 0.01256356481462717, 0.0005136815016157925, -0.09593652188777924, 0.04203258827328682, -0.06052474305033684, -0.022014031186699867, -0.02257377840578556, 0.003526858054101467, 0.007498296909034252, 0.022495880722999573, -0.02234119176864624, 0.018494926393032074, 0.010891071520745754, 0.044858209788799286, 0.02911238558590412, -0.014215884730219841, 0.0033253426663577557, -0.017368054017424583, 0.04293231666088104, -0.027314141392707825, 0.06472358852624893, -0.006836957763880491, -0.011033677496016026, 0.02219882234930992, 0.010151941329240799, -0.04141848906874657, -0.0020681361202150583, -0.014971784316003323, -0.043956492096185684, -0.05736897140741348, 0.06612633168697357, -0.013815325684845448, 0.028126941993832588, 0.001944459741935134, 0.009886547923088074, -0.06489057093858719, -0.004471436608582735, -0.011007970198988914, -0.030046649277210236, 0.009297743439674377, 0.018208209425210953, -0.030721692368388176, -0.04881065711379051, -0.014676030725240707, -0.01802741177380085, -0.04976337030529976, 0.00996475387364626, 0.04805941507220268, -0.022671401500701904, 0.0025544597301632166, 0.07188797742128372, -0.010520074516534805, 0.02442309446632862, -0.007937556132674217, -0.018836507573723793, 0.0367632694542408, -0.028928423300385475, 0.023932967334985733, -0.013022935017943382, -0.06000052019953728, 0.004212276078760624, -0.03921379894018173, 0.034466296434402466, 0.011914732865989208, -0.016097821295261383, 0.049821775406599045, 0.009868498891592026, -0.009434972889721394, -0.0045338463969528675, 0.003983848262578249, -0.041328996419906616, 0.0164662916213274, -0.025755364447832108, -0.013570212759077549, -0.002115086652338505, -0.051071543246507645, 0.0010597251821309328, 0.008337114937603474, 0.005696197971701622, 0.0336085706949234, -0.02721952274441719, 0.038712140172719955, 0.020350905135273933, 0.02347426488995552, -0.007208999712020159, 0.03275919705629349, 0.0013542979722842574, -0.0180191770195961, -0.012484471313655376, -0.004283380229026079, -0.0090633574873209, 0.07004350423812866, 0.008159893564879894, -0.030572224408388138, -0.01482499111443758, 0.029804859310388565, -0.043125130236148834, 0.02415473572909832, -0.036102406680583954, -0.05521073192358017, -0.03526109829545021, -0.03513425588607788, -0.026354985311627388, -0.022524971514940262, -0.07398544996976852, -0.019120866432785988, 0.02647615410387516, -0.026923390105366707, -0.026584522798657417, 0.03537754341959953, -0.055300500243902206, -0.004631744232028723, -0.07739926874637604, -0.03906934708356857, -0.046197596937417984, 0.04782960191369057, -0.04210475832223892, 0.002428795676678419, 0.0005654558772221208, 0.04666483402252197, 0.00957992672920227, -0.013391380198299885, -0.07704101502895355, -0.023928144946694374, 0.010474860668182373, 0.0061682406812906265, -0.019612325355410576, 0.0636700987815857, 0.026426807045936584, 0.009840232320129871, -0.029217178001999855, 0.04636033624410629, -0.009178118780255318, -0.022423969581723213, -0.08048123866319656, 0.013771099969744682, 0.054892104119062424, 0.017943719401955605, -0.020051149651408195, -0.001556863309815526, 0.011756284162402153, 0.0263005793094635, -0.02114035002887249, -0.03392670303583145, -0.027444658800959587, 0.017826279625296593, -0.05077146738767624, 0.05972400680184364, -0.07966095209121704, -0.0031806763727217913, -0.03331073001027107, 0.009082736447453499, -0.05603397265076637, -0.07808679342269897, -0.047820623964071274, 0.04395825043320656, 0.05697110667824745, 0.011556470766663551, 0.011395451612770557, -0.02058251202106476, 0.020486077293753624, -0.028696976602077484, -0.039908215403556824, 0.032090120017528534, -0.001064550830051303, 0.055140700191259384, -0.03516298905014992, 0.08303118497133255, 0.02074091136455536, 0.02021191082894802, -0.05768764764070511, -0.02795030176639557, 0.08028033375740051, 0.0007384123164229095, 0.0008130486239679158, -0.06283073127269745, -0.002231763442978263, 0.03331628814339638, 0.012992135249078274, -0.007433583028614521, -0.006371126510202885, 0.04223452880978584, 0.00820132065564394, -0.012266308069229126, 0.032956261187791824, -0.023726262152194977, 0.03226131200790405, -0.03083221986889839, 0.017038624733686447, 0.024111934006214142, -0.030451854690909386, -0.0014298039022833109, -0.036212000995874405, -0.03246908262372017, -0.0021841067355126143, -0.05403492972254753, -0.03452155366539955, 0.030093055218458176, -0.0008842735551297665, -0.007115835323929787, -0.03209913894534111, 0.024918438866734505, -0.014679472893476486, 0.09074799716472626, -0.020654937252402306, 0.02383311651647091, -0.0007191658369265497, -0.023454681038856506, -0.04649097099900246, 0.024943675845861435, 0.037419937551021576, -0.012853622436523438, -0.004968198481947184, 0.0086666876450181, -2.707197199924849e-05, -0.060657795518636703, 0.03099018521606922, 0.014357620850205421, -0.03428227826952934, 0.011165116913616657, 0.0031987859401851892, -0.04488297551870346, -0.01879352331161499, 0.03446488827466965, -0.05558928847312927, 0.016124531626701355, 0.0370495542883873, -0.052410613745450974, -0.00022236595395952463, -0.008155029267072678, 0.04586164280772209, -0.02708219364285469, -0.013033819384872913, -0.0015104565536603332, -0.04484352096915245, 0.061477817595005035, 0.02820570208132267, 0.016456792131066322, 0.045139435678720474, 0.042176924645900726, 0.008808407932519913, -0.04160602390766144, -0.020445160567760468, 0.014664269983768463, -0.0013722794828936458, 0.05510061979293823, -0.0675746276974678, 0.03205126151442528, 0.006664985790848732, -0.040423788130283356, -0.03248453140258789, 0.0031689205206930637, -0.03753114119172096, 0.040497735142707825, -0.006563995033502579, -0.02755691483616829, -0.03986150398850441, -0.015137901529669762, -0.03510051965713501, 0.001708188676275313, -0.019859423860907555, -0.030817847698926926, 0.03865845873951912, 0.014514475129544735, 0.03363153338432312, 0.03072240948677063, -0.019023578613996506, 0.0655154213309288, -0.017330247908830643, -0.010828989557921886, 0.005513695068657398, -0.005413927137851715, -0.04280591383576393, 0.07144132256507874, -0.01630610227584839, -0.036060914397239685, 0.0012926942436024547, -0.04260987788438797, 0.034005191177129745, 0.07187123596668243, 0.005679084453731775, 0.014139123260974884, 0.04906543344259262, 0.02094641886651516, 0.03202136978507042, 0.048653557896614075, -0.007852106355130672, 0.044009700417518616, 0.04869557544589043, -0.048948515206575394, 0.02629220113158226, -0.0013424042845144868, -0.016444465145468712, 0.03368993103504181, -0.0026269457302987576, -0.034254927188158035, -0.018387746065855026, 0.022502724081277847, -0.02812083065509796, -0.008392768912017345, -0.022759877145290375, 0.01811067759990692, -0.03973779454827309, 0.040829356759786606, 0.0385361909866333, -0.05282309651374817, -0.06318318843841553, 0.005528595764189959, 0.026883533224463463, -0.006547881290316582, -0.016932280734181404, -0.011498183943331242, 0.0020841285586357117, -0.027481332421302795, 0.004000350832939148, 0.03177117928862572, -0.010698067955672741, 0.0029814026784151793, 0.014933569356799126, 0.03175914287567139, -0.05027523636817932, -0.011076326481997967, -0.020365312695503235, 0.06637077033519745, 0.03948112577199936, 0.011448784731328487, 0.010023335926234722, 0.06388337910175323, -0.005353511311113834, 0.03578714653849602, 0.12767180800437927, -0.035429056733846664, -0.019338615238666534, -0.057646092027425766, 0.0159262977540493, -0.012457629665732384, -0.020611196756362915, -0.011769124306738377, 0.015025104396045208, -0.07732722908258438, -0.045805539935827255, 0.037191689014434814, 0.02944759465754032, -0.01371784694492817, 0.10281829535961151, 0.05623704940080643, -0.0850890651345253, -0.017350101843476295, 0.012446914799511433, -0.0228168573230505, -0.007368792314082384, 0.01309142168611288, 0.03682532534003258, -0.018427889794111252, -0.035915557295084, -0.019797105342149734, -0.032730285078287125, 0.02074129320681095, 0.0029900448862463236, -0.05756823718547821, 0.0070224059745669365, -0.02753753960132599, 0.0020719035528600216, -0.0379362590610981, -0.02144012786448002, -0.03351394832134247, -0.05349006503820419, 0.01004775334149599, 0.06190169230103493, -0.10242941230535507, 0.050727736204862595, 0.02461021952331066, 0.01712687499821186, 0.006422939244657755, 0.06501400470733643, 0.004391698632389307, 0.030843082815408707, 0.022153152152895927, 0.02713494747877121, 0.028573427349328995, -0.06998030841350555, -0.014397168532013893, 0.01286902092397213, 0.04794150963425636, 0.07004127651453018, -0.00569197628647089, 0.03623112291097641, -0.019736316055059433, -0.04797007516026497, 0.03730977699160576, -0.02817535400390625, -0.03724084421992302, -0.04510171338915825, 0.03863386809825897, 0.037993770092725754, -0.022427860647439957, 0.011231915093958378, 0.024474993348121643, 0.057704124599695206, -0.05500485375523567, -0.0357336588203907, 0.023637160658836365, 0.006839464418590069, -0.024504609405994415, -0.007833331823348999, -0.05797155946493149, 0.05393862724304199, 0.024864746257662773, 0.013911050744354725, 0.056301265954971313, -0.012075994163751602, -0.05240551382303238, 0.029696565121412277, -0.00031252234475687146, -0.0143438084051013, 0.023086806759238243, 0.014737321995198727, -3.787739160543424e-06, 0.05603040009737015, 0.014692820608615875, 0.020726270973682404, 0.010255282744765282, 0.0003042312164325267, -0.021870916709303856, 0.08730379492044449, -0.07217857241630554, 0.04229041188955307, -0.026692604646086693, 0.05562923103570938, 0.06709065288305283, -0.0035036937333643436, -0.02763618528842926, -0.00771558890119195, -0.07191937416791916, 0.0452449657022953, 0.02433546632528305, 0.021947305649518967, -0.03420256823301315, -0.01916542276740074, -0.056508321315050125, -0.03096846677362919, 0.0036181816831231117, 0.06356987357139587, 0.01906931959092617, 0.03767701983451843, -0.013334393501281738, -0.016108600422739983, 0.01428388711065054, -0.01091985497623682, -0.08473280072212219, -0.006810319144278765, -0.0032968856394290924, 0.06812827289104462, 0.0438995435833931, 0.02980712428689003, -0.0025966332759708166, 0.03767439350485802, -0.019189121201634407, 0.036394599825143814, 0.006425870582461357, 0.02823091298341751, -0.015919102355837822, -0.0020456151105463505, 0.02585897408425808, 0.03748060017824173, 0.013389062136411667, 0.03322960063815117]\"\n        ],\n        \"semantic_type\": \"\",\n        \"description\": \"\"\n      }\n    }\n  ]\n}"
            }
          },
          "metadata": {},
          "execution_count": 10
        }
      ],
      "source": [
        "# get product list with pre-computed image embeddings\n",
        "product_image_list = pd.read_csv(\n",
        "    \"https://storage.googleapis.com/github-repo/embeddings/getting_started_embeddings/image_data_with_embeddings.csv\"\n",
        ")\n",
        "product_image_list.head()"
      ]
    },
    {
      "source": [
        "from google.colab import sheets\n",
        "sheet = sheets.InteractiveSheet(df=product_image_list)"
      ],
      "cell_type": "code",
      "execution_count": 11,
      "outputs": [
        {
          "output_type": "stream",
          "name": "stdout",
          "text": [
            "https://docs.google.com/spreadsheets/d/1dCIqbNzOBVoSPHNxSjpyIykbpPKRKFesN--vlaBLHpk/edit#gid=0\n"
          ]
        },
        {
          "output_type": "display_data",
          "data": {
            "text/plain": [
              "<IPython.lib.display.IFrame at 0x78fdd8da6180>"
            ],
            "text/html": [
              "\n",
              "        <iframe\n",
              "            width=\"100%\"\n",
              "            height=\"600\"\n",
              "            src=\"https://docs.google.com/spreadsheets/d/1dCIqbNzOBVoSPHNxSjpyIykbpPKRKFesN--vlaBLHpk/edit?rm=embedded#gid=0\"\n",
              "            frameborder=\"0\"\n",
              "            allowfullscreen\n",
              "            \n",
              "        ></iframe>\n",
              "        "
            ]
          },
          "metadata": {}
        }
      ],
      "metadata": {
        "cellView": "form",
        "colab": {
          "base_uri": "https://localhost:8080/",
          "height": 639
        },
        "id": "C0Vi7sZqPzhU",
        "outputId": "fcf8a82f-23d2-4ffe-abad-3c7c4786760f"
      }
    },
    {
      "cell_type": "code",
      "execution_count": 12,
      "metadata": {
        "id": "SIiC_5JxWRMw",
        "colab": {
          "base_uri": "https://localhost:8080/",
          "height": 1000
        },
        "outputId": "1eff9016-5f5c-48d0-f7c5-cf5a6ebc9110"
      },
      "outputs": [
        {
          "output_type": "stream",
          "name": "stdout",
          "text": [
            "        score                              title\n",
            "235  0.120895  Chrome Dino Collectible Figurines\n",
            "15   0.105889       Chrome Dino Keyboard Sticker\n",
            "84   0.098711               Chrome Dino Keychain\n",
            "91   0.098204        YouTube Kids T-Rex Keychain\n",
            "252  0.097236         Chrome Dino Food Container\n"
          ]
        },
        {
          "output_type": "display_data",
          "data": {
            "text/html": [
              "<img src=\"https://storage.googleapis.com/github-repo/embeddings/getting_started_embeddings/gms_images/GGOEGABJ125299.jpg\" width=\"200\" height=\"200\"/>"
            ],
            "text/plain": [
              "<IPython.core.display.Image object>"
            ]
          },
          "metadata": {}
        },
        {
          "output_type": "display_data",
          "data": {
            "text/html": [
              "<img src=\"https://storage.googleapis.com/github-repo/embeddings/getting_started_embeddings/gms_images/GGOEGFKA194899.jpg\" width=\"200\" height=\"200\"/>"
            ],
            "text/plain": [
              "<IPython.core.display.Image object>"
            ]
          },
          "metadata": {}
        },
        {
          "output_type": "display_data",
          "data": {
            "text/html": [
              "<img src=\"https://storage.googleapis.com/github-repo/embeddings/getting_started_embeddings/gms_images/GGOEGCBA195199.jpg\" width=\"200\" height=\"200\"/>"
            ],
            "text/plain": [
              "<IPython.core.display.Image object>"
            ]
          },
          "metadata": {}
        },
        {
          "output_type": "display_data",
          "data": {
            "text/html": [
              "<img src=\"https://storage.googleapis.com/github-repo/embeddings/getting_started_embeddings/gms_images/GGOEYCBA182599.jpg\" width=\"200\" height=\"200\"/>"
            ],
            "text/plain": [
              "<IPython.core.display.Image object>"
            ]
          },
          "metadata": {}
        },
        {
          "output_type": "display_data",
          "data": {
            "text/html": [
              "<img src=\"https://storage.googleapis.com/github-repo/embeddings/getting_started_embeddings/gms_images/GGOEGCBB165899.jpg\" width=\"200\" height=\"200\"/>"
            ],
            "text/plain": [
              "<IPython.core.display.Image object>"
            ]
          },
          "metadata": {}
        }
      ],
      "source": [
        "# calc_scores for a text query\n",
        "query_emb = get_text_embedding(\"something related to dinosaurs theme\")\n",
        "print_similar_images(query_emb, product_image_list)"
      ]
    },
    {
      "cell_type": "code",
      "execution_count": null,
      "metadata": {
        "id": "B3Dui6Y1gM4G"
      },
      "outputs": [],
      "source": [
        "query_emb = get_text_embedding(\"Socks in checkered patterns\")\n",
        "print_similar_images(query_emb, product_image_list)"
      ]
    },
    {
      "cell_type": "markdown",
      "metadata": {
        "id": "fdcec1fefb20"
      },
      "source": [
        "## Generate Video Embeddings"
      ]
    },
    {
      "cell_type": "code",
      "execution_count": null,
      "metadata": {
        "id": "QeGOaYxGwtdp"
      },
      "outputs": [],
      "source": [
        "# Video embeddings with 1408 dimension\n",
        "video_path = \"gs://github-repo/embeddings/getting_started_embeddings/UCF-101-subset/BrushingTeeth/v_BrushingTeeth_g01_c02.mp4\"\n",
        "display_video_from_gcs(video_path)\n",
        "\n",
        "video_emb = get_video_embedding(\n",
        "    video_path=video_path,\n",
        ")\n",
        "\n",
        "print(\"length of embedding: \", len(video_emb[0]))\n",
        "print(\"First five values of the first segment are: \", video_emb[0][:5])"
      ]
    },
    {
      "cell_type": "markdown",
      "metadata": {
        "id": "113e181c0cef"
      },
      "source": [
        "### Find videos based on text search query"
      ]
    },
    {
      "cell_type": "code",
      "execution_count": null,
      "metadata": {
        "id": "6a8c536bb20a"
      },
      "outputs": [],
      "source": [
        "video_list = pd.read_csv(\n",
        "    \"https://storage.googleapis.com/github-repo/embeddings/getting_started_embeddings/video_data_with_embeddings.csv\"\n",
        ")\n",
        "print(f\"Items in the video list: {len(video_list)}\")\n",
        "video_list.head()"
      ]
    },
    {
      "cell_type": "markdown",
      "metadata": {
        "id": "btCIJCh2OnSP"
      },
      "source": [
        "### Find Similar videos"
      ]
    },
    {
      "cell_type": "code",
      "execution_count": null,
      "metadata": {
        "id": "3a3c0614b7c3"
      },
      "outputs": [],
      "source": [
        "query_emb = get_text_embedding(\"A music concert\")\n",
        "print_similar_videos(query_emb, video_list)"
      ]
    },
    {
      "cell_type": "code",
      "execution_count": null,
      "metadata": {
        "id": "ad004ac41e8f"
      },
      "outputs": [],
      "source": [
        "query_emb = get_text_embedding(\"A person playing a TaiChi\")\n",
        "print_similar_videos(query_emb, video_list)"
      ]
    },
    {
      "cell_type": "markdown",
      "metadata": {
        "id": "IddiO0T-wdno"
      },
      "source": [
        "## What's next?\n",
        "\n",
        "- Learn how to store the vectors (embeddings) into Vertex AI Vector Search: [Notebook](https://github.com/GoogleCloudPlatform/generative-ai/blob/main/embeddings/vector-search-quickstart.ipynb)\n",
        "- Learn how to tune the embeddings with your own data: [Notebook](https://github.com/GoogleCloudPlatform/generative-ai/blob/main/embeddings/intro_embeddings_tuning.ipynb)\n",
        "- Learn how to use embeddings to do Text RAG and Multimodal RAG: [Notebook](https://github.com/GoogleCloudPlatform/generative-ai/blob/main/gemini/use-cases/retrieval-augmented-generation/intro_multimodal_rag.ipynb)"
      ]
    }
  ],
  "metadata": {
    "colab": {
      "name": "intro_multimodal_embeddings.ipynb",
      "toc_visible": true,
      "provenance": []
    },
    "kernelspec": {
      "display_name": "Python 3",
      "name": "python3"
    }
  },
  "nbformat": 4,
  "nbformat_minor": 0
}